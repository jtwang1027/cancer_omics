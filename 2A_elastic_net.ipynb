{
  "nbformat": 4,
  "nbformat_minor": 0,
  "metadata": {
    "colab": {
      "name": "2A_elastic_net.ipynb",
      "provenance": [],
      "collapsed_sections": [],
      "include_colab_link": true
    },
    "kernelspec": {
      "name": "python3",
      "display_name": "Python 3"
    }
  },
  "cells": [
    {
      "cell_type": "markdown",
      "metadata": {
        "id": "view-in-github",
        "colab_type": "text"
      },
      "source": [
        "<a href=\"https://colab.research.google.com/github/jtwang1027/cancer_omics/blob/master/2A_elastic_net.ipynb\" target=\"_parent\"><img src=\"https://colab.research.google.com/assets/colab-badge.svg\" alt=\"Open In Colab\"/></a>"
      ]
    },
    {
      "cell_type": "code",
      "metadata": {
        "id": "Bld_Ezkur-49",
        "colab_type": "code",
        "colab": {}
      },
      "source": [
        "from google.colab import drive\n",
        "drive.mount('/content/drive')"
      ],
      "execution_count": 0,
      "outputs": []
    },
    {
      "cell_type": "code",
      "metadata": {
        "id": "GAWlC1_nAoV6",
        "colab_type": "code",
        "colab": {}
      },
      "source": [
        "import pandas as pd\n",
        "import numpy as np\n",
        "from sklearn.preprocessing import MinMaxScaler\n",
        "from sklearn.model_selection import train_test_split\n",
        "\n",
        "from sklearn.linear_model import ElasticNet\n",
        "from sklearn.model_selection import GridSearchCV\n",
        "\n",
        "from sklearn.datasets import make_regression\n",
        "\n",
        "from sklearn.metrics import mean_squared_error\n",
        "from math import sqrt\n",
        "from sklearn.decomposition import PCA"
      ],
      "execution_count": 0,
      "outputs": []
    },
    {
      "cell_type": "code",
      "metadata": {
        "id": "fyooHiJQEvZm",
        "colab_type": "code",
        "colab": {}
      },
      "source": [
        "au= pd.read_csv('/content/drive/My Drive/hcc1599.csv') # read in data from example cell line"
      ],
      "execution_count": 0,
      "outputs": []
    },
    {
      "cell_type": "code",
      "metadata": {
        "id": "XYg-xQmoF83s",
        "colab_type": "code",
        "colab": {}
      },
      "source": [
        ""
      ],
      "execution_count": 0,
      "outputs": []
    },
    {
      "cell_type": "code",
      "metadata": {
        "id": "Z9pA7GMCF3Rp",
        "colab_type": "code",
        "colab": {}
      },
      "source": [
        "au.dropna(axis=1, inplace=True)\n",
        "encoded=pd.get_dummies(au.treatment, drop_first=True) #one hot encoding on treatments\n",
        "au=au.join(encoded)\n",
        "dropcol= ['cellID', 'fileID', 'cell_line','treatment']\n",
        "au.drop(  dropcol , axis=1, inplace=True)\n",
        "\n",
        "\n",
        "X= au.drop(['p.STAT5'], axis=1)\n",
        "y= au['p.STAT5']"
      ],
      "execution_count": 0,
      "outputs": []
    },
    {
      "cell_type": "code",
      "metadata": {
        "id": "JExkH0foGqCv",
        "colab_type": "code",
        "colab": {}
      },
      "source": [
        "scaler=MinMaxScaler()\n",
        "sub_col=['b.CATENIN', 'cleavedCas', 'CyclinB', 'GAPDH', 'IdU', 'Ki.67',\n",
        "       'p.4EBP1', 'p.Akt.Ser473.', 'p.AKT.Thr308.', 'p.AMPK', 'p.BTK',\n",
        "       'p.CREB', 'p.ERK', 'p.FAK', 'p.GSK3b', 'p.H3', 'p.HER2', 'p.JNK',\n",
        "       'p.MAP2K3', 'p.MAPKAPK2', 'p.MEK', 'p.MKK3.MKK6', 'p.MKK4', 'p.NFkB',\n",
        "       'p.p38', 'p.p53', 'p.p90RSK', 'p.PDPK1', 'p.PLCg2', 'p.RB', 'p.S6',\n",
        "       'p.S6K', 'p.SMAD23', 'p.SRC', 'p.STAT1', 'p.STAT3']"
      ],
      "execution_count": 0,
      "outputs": []
    },
    {
      "cell_type": "code",
      "metadata": {
        "id": "AdxbMLt5knlD",
        "colab_type": "code",
        "colab": {}
      },
      "source": [
        "X[sub_col]=scaler.fit_transform(X[sub_col])"
      ],
      "execution_count": 0,
      "outputs": []
    },
    {
      "cell_type": "code",
      "metadata": {
        "id": "xUGdqS2X1YtT",
        "colab_type": "code",
        "outputId": "68738753-c3e9-4690-ad5f-9b0e5339dc32",
        "colab": {
          "base_uri": "https://localhost:8080/",
          "height": 224
        }
      },
      "source": [
        "X.head()"
      ],
      "execution_count": 0,
      "outputs": [
        {
          "output_type": "execute_result",
          "data": {
            "text/html": [
              "<div>\n",
              "<style scoped>\n",
              "    .dataframe tbody tr th:only-of-type {\n",
              "        vertical-align: middle;\n",
              "    }\n",
              "\n",
              "    .dataframe tbody tr th {\n",
              "        vertical-align: top;\n",
              "    }\n",
              "\n",
              "    .dataframe thead th {\n",
              "        text-align: right;\n",
              "    }\n",
              "</style>\n",
              "<table border=\"1\" class=\"dataframe\">\n",
              "  <thead>\n",
              "    <tr style=\"text-align: right;\">\n",
              "      <th></th>\n",
              "      <th>time</th>\n",
              "      <th>b.CATENIN</th>\n",
              "      <th>cleavedCas</th>\n",
              "      <th>CyclinB</th>\n",
              "      <th>GAPDH</th>\n",
              "      <th>IdU</th>\n",
              "      <th>Ki.67</th>\n",
              "      <th>p.4EBP1</th>\n",
              "      <th>p.Akt.Ser473.</th>\n",
              "      <th>p.AKT.Thr308.</th>\n",
              "      <th>p.AMPK</th>\n",
              "      <th>p.BTK</th>\n",
              "      <th>p.CREB</th>\n",
              "      <th>p.ERK</th>\n",
              "      <th>p.FAK</th>\n",
              "      <th>p.GSK3b</th>\n",
              "      <th>p.H3</th>\n",
              "      <th>p.HER2</th>\n",
              "      <th>p.JNK</th>\n",
              "      <th>p.MAP2K3</th>\n",
              "      <th>p.MAPKAPK2</th>\n",
              "      <th>p.MEK</th>\n",
              "      <th>p.MKK3.MKK6</th>\n",
              "      <th>p.MKK4</th>\n",
              "      <th>p.NFkB</th>\n",
              "      <th>p.p38</th>\n",
              "      <th>p.p53</th>\n",
              "      <th>p.p90RSK</th>\n",
              "      <th>p.PDPK1</th>\n",
              "      <th>p.PLCg2</th>\n",
              "      <th>p.RB</th>\n",
              "      <th>p.S6</th>\n",
              "      <th>p.S6K</th>\n",
              "      <th>p.SMAD23</th>\n",
              "      <th>p.SRC</th>\n",
              "      <th>p.STAT1</th>\n",
              "      <th>p.STAT3</th>\n",
              "      <th>full</th>\n",
              "      <th>iEGFR</th>\n",
              "      <th>iMEK</th>\n",
              "      <th>iPI3K</th>\n",
              "      <th>iPKC</th>\n",
              "    </tr>\n",
              "  </thead>\n",
              "  <tbody>\n",
              "    <tr>\n",
              "      <th>0</th>\n",
              "      <td>0.0</td>\n",
              "      <td>0.173372</td>\n",
              "      <td>0.370959</td>\n",
              "      <td>0.208275</td>\n",
              "      <td>0.528764</td>\n",
              "      <td>0.001949</td>\n",
              "      <td>0.391436</td>\n",
              "      <td>0.445059</td>\n",
              "      <td>0.233152</td>\n",
              "      <td>0.310369</td>\n",
              "      <td>0.424805</td>\n",
              "      <td>0.363475</td>\n",
              "      <td>0.133049</td>\n",
              "      <td>0.140254</td>\n",
              "      <td>0.258783</td>\n",
              "      <td>0.028934</td>\n",
              "      <td>0.188850</td>\n",
              "      <td>0.421797</td>\n",
              "      <td>0.071617</td>\n",
              "      <td>0.525482</td>\n",
              "      <td>0.374854</td>\n",
              "      <td>0.109300</td>\n",
              "      <td>0.463622</td>\n",
              "      <td>0.310457</td>\n",
              "      <td>0.606196</td>\n",
              "      <td>0.246556</td>\n",
              "      <td>0.211680</td>\n",
              "      <td>0.000000</td>\n",
              "      <td>0.109329</td>\n",
              "      <td>0.312418</td>\n",
              "      <td>0.406062</td>\n",
              "      <td>0.000000</td>\n",
              "      <td>0.160247</td>\n",
              "      <td>0.000000</td>\n",
              "      <td>0.257101</td>\n",
              "      <td>0.412601</td>\n",
              "      <td>0.385066</td>\n",
              "      <td>0</td>\n",
              "      <td>0</td>\n",
              "      <td>0</td>\n",
              "      <td>0</td>\n",
              "      <td>0</td>\n",
              "    </tr>\n",
              "    <tr>\n",
              "      <th>1</th>\n",
              "      <td>0.0</td>\n",
              "      <td>0.039956</td>\n",
              "      <td>0.000000</td>\n",
              "      <td>0.000000</td>\n",
              "      <td>0.599262</td>\n",
              "      <td>0.109305</td>\n",
              "      <td>0.478695</td>\n",
              "      <td>0.071105</td>\n",
              "      <td>0.089336</td>\n",
              "      <td>0.402477</td>\n",
              "      <td>0.327857</td>\n",
              "      <td>0.127070</td>\n",
              "      <td>0.041278</td>\n",
              "      <td>0.287817</td>\n",
              "      <td>0.125650</td>\n",
              "      <td>0.036461</td>\n",
              "      <td>0.123508</td>\n",
              "      <td>0.423581</td>\n",
              "      <td>0.178055</td>\n",
              "      <td>0.206203</td>\n",
              "      <td>0.280893</td>\n",
              "      <td>0.258561</td>\n",
              "      <td>0.255053</td>\n",
              "      <td>0.205210</td>\n",
              "      <td>0.598391</td>\n",
              "      <td>0.264551</td>\n",
              "      <td>0.000000</td>\n",
              "      <td>0.151383</td>\n",
              "      <td>0.441932</td>\n",
              "      <td>0.137830</td>\n",
              "      <td>0.000000</td>\n",
              "      <td>0.056620</td>\n",
              "      <td>0.000000</td>\n",
              "      <td>0.106555</td>\n",
              "      <td>0.000000</td>\n",
              "      <td>0.472799</td>\n",
              "      <td>0.160219</td>\n",
              "      <td>0</td>\n",
              "      <td>0</td>\n",
              "      <td>0</td>\n",
              "      <td>0</td>\n",
              "      <td>0</td>\n",
              "    </tr>\n",
              "    <tr>\n",
              "      <th>2</th>\n",
              "      <td>0.0</td>\n",
              "      <td>0.251246</td>\n",
              "      <td>0.000000</td>\n",
              "      <td>0.000000</td>\n",
              "      <td>0.367237</td>\n",
              "      <td>0.000000</td>\n",
              "      <td>0.000000</td>\n",
              "      <td>0.424026</td>\n",
              "      <td>0.325904</td>\n",
              "      <td>0.279674</td>\n",
              "      <td>0.294511</td>\n",
              "      <td>0.320268</td>\n",
              "      <td>0.165598</td>\n",
              "      <td>0.065748</td>\n",
              "      <td>0.182916</td>\n",
              "      <td>0.261948</td>\n",
              "      <td>0.392397</td>\n",
              "      <td>0.479732</td>\n",
              "      <td>0.256014</td>\n",
              "      <td>0.124993</td>\n",
              "      <td>0.297627</td>\n",
              "      <td>0.157363</td>\n",
              "      <td>0.228753</td>\n",
              "      <td>0.177523</td>\n",
              "      <td>0.667242</td>\n",
              "      <td>0.222223</td>\n",
              "      <td>0.052432</td>\n",
              "      <td>0.435055</td>\n",
              "      <td>0.495869</td>\n",
              "      <td>0.462639</td>\n",
              "      <td>0.016956</td>\n",
              "      <td>0.242833</td>\n",
              "      <td>0.226692</td>\n",
              "      <td>0.153393</td>\n",
              "      <td>0.326579</td>\n",
              "      <td>0.548140</td>\n",
              "      <td>0.134385</td>\n",
              "      <td>0</td>\n",
              "      <td>0</td>\n",
              "      <td>0</td>\n",
              "      <td>0</td>\n",
              "      <td>0</td>\n",
              "    </tr>\n",
              "    <tr>\n",
              "      <th>3</th>\n",
              "      <td>0.0</td>\n",
              "      <td>0.016293</td>\n",
              "      <td>0.024069</td>\n",
              "      <td>0.118182</td>\n",
              "      <td>0.033448</td>\n",
              "      <td>0.023318</td>\n",
              "      <td>0.000000</td>\n",
              "      <td>0.000000</td>\n",
              "      <td>0.069810</td>\n",
              "      <td>0.000000</td>\n",
              "      <td>0.281326</td>\n",
              "      <td>0.262006</td>\n",
              "      <td>0.000000</td>\n",
              "      <td>0.170056</td>\n",
              "      <td>0.086224</td>\n",
              "      <td>0.000000</td>\n",
              "      <td>0.000000</td>\n",
              "      <td>0.015494</td>\n",
              "      <td>0.000000</td>\n",
              "      <td>0.312297</td>\n",
              "      <td>0.000000</td>\n",
              "      <td>0.000000</td>\n",
              "      <td>0.332493</td>\n",
              "      <td>0.187266</td>\n",
              "      <td>0.113333</td>\n",
              "      <td>0.065841</td>\n",
              "      <td>0.383071</td>\n",
              "      <td>0.062860</td>\n",
              "      <td>0.049650</td>\n",
              "      <td>0.000000</td>\n",
              "      <td>0.210707</td>\n",
              "      <td>0.231671</td>\n",
              "      <td>0.215694</td>\n",
              "      <td>0.000000</td>\n",
              "      <td>0.000000</td>\n",
              "      <td>0.308159</td>\n",
              "      <td>0.054634</td>\n",
              "      <td>0</td>\n",
              "      <td>0</td>\n",
              "      <td>0</td>\n",
              "      <td>0</td>\n",
              "      <td>0</td>\n",
              "    </tr>\n",
              "    <tr>\n",
              "      <th>4</th>\n",
              "      <td>0.0</td>\n",
              "      <td>0.070852</td>\n",
              "      <td>0.435372</td>\n",
              "      <td>0.305227</td>\n",
              "      <td>0.517955</td>\n",
              "      <td>0.625299</td>\n",
              "      <td>0.491334</td>\n",
              "      <td>0.124634</td>\n",
              "      <td>0.273149</td>\n",
              "      <td>0.243283</td>\n",
              "      <td>0.455017</td>\n",
              "      <td>0.387245</td>\n",
              "      <td>0.054323</td>\n",
              "      <td>0.460666</td>\n",
              "      <td>0.318657</td>\n",
              "      <td>0.000000</td>\n",
              "      <td>0.189722</td>\n",
              "      <td>0.247487</td>\n",
              "      <td>0.072962</td>\n",
              "      <td>0.415141</td>\n",
              "      <td>0.339246</td>\n",
              "      <td>0.338107</td>\n",
              "      <td>0.420868</td>\n",
              "      <td>0.328586</td>\n",
              "      <td>0.714823</td>\n",
              "      <td>0.135640</td>\n",
              "      <td>0.428579</td>\n",
              "      <td>0.008329</td>\n",
              "      <td>0.098966</td>\n",
              "      <td>0.289817</td>\n",
              "      <td>0.577366</td>\n",
              "      <td>0.064477</td>\n",
              "      <td>0.245815</td>\n",
              "      <td>0.000000</td>\n",
              "      <td>0.235780</td>\n",
              "      <td>0.496819</td>\n",
              "      <td>0.338477</td>\n",
              "      <td>0</td>\n",
              "      <td>0</td>\n",
              "      <td>0</td>\n",
              "      <td>0</td>\n",
              "      <td>0</td>\n",
              "    </tr>\n",
              "  </tbody>\n",
              "</table>\n",
              "</div>"
            ],
            "text/plain": [
              "   time  b.CATENIN  cleavedCas   CyclinB  ...  iEGFR  iMEK  iPI3K  iPKC\n",
              "0   0.0   0.173372    0.370959  0.208275  ...      0     0      0     0\n",
              "1   0.0   0.039956    0.000000  0.000000  ...      0     0      0     0\n",
              "2   0.0   0.251246    0.000000  0.000000  ...      0     0      0     0\n",
              "3   0.0   0.016293    0.024069  0.118182  ...      0     0      0     0\n",
              "4   0.0   0.070852    0.435372  0.305227  ...      0     0      0     0\n",
              "\n",
              "[5 rows x 42 columns]"
            ]
          },
          "metadata": {
            "tags": []
          },
          "execution_count": 8
        }
      ]
    },
    {
      "cell_type": "code",
      "metadata": {
        "id": "6XSh-1CMH5F5",
        "colab_type": "code",
        "colab": {}
      },
      "source": [
        "X_train,X_test,y_train,y_test = train_test_split(X,y,test_size = 0.25, random_state=1234)"
      ],
      "execution_count": 0,
      "outputs": []
    },
    {
      "cell_type": "code",
      "metadata": {
        "id": "SCfHWPA4kyO0",
        "colab_type": "code",
        "outputId": "49c529d7-2724-4343-d0d7-7ed0330af31c",
        "colab": {
          "base_uri": "https://localhost:8080/",
          "height": 309
        }
      },
      "source": [
        "X_train.head()\n"
      ],
      "execution_count": 0,
      "outputs": [
        {
          "output_type": "execute_result",
          "data": {
            "text/html": [
              "<div>\n",
              "<style scoped>\n",
              "    .dataframe tbody tr th:only-of-type {\n",
              "        vertical-align: middle;\n",
              "    }\n",
              "\n",
              "    .dataframe tbody tr th {\n",
              "        vertical-align: top;\n",
              "    }\n",
              "\n",
              "    .dataframe thead th {\n",
              "        text-align: right;\n",
              "    }\n",
              "</style>\n",
              "<table border=\"1\" class=\"dataframe\">\n",
              "  <thead>\n",
              "    <tr style=\"text-align: right;\">\n",
              "      <th></th>\n",
              "      <th>time</th>\n",
              "      <th>b.CATENIN</th>\n",
              "      <th>cleavedCas</th>\n",
              "      <th>CyclinB</th>\n",
              "      <th>GAPDH</th>\n",
              "      <th>IdU</th>\n",
              "      <th>Ki.67</th>\n",
              "      <th>p.4EBP1</th>\n",
              "      <th>p.Akt.Ser473.</th>\n",
              "      <th>p.AKT.Thr308.</th>\n",
              "      <th>p.AMPK</th>\n",
              "      <th>p.BTK</th>\n",
              "      <th>p.CREB</th>\n",
              "      <th>p.ERK</th>\n",
              "      <th>p.FAK</th>\n",
              "      <th>p.GSK3b</th>\n",
              "      <th>p.H3</th>\n",
              "      <th>p.HER2</th>\n",
              "      <th>p.JNK</th>\n",
              "      <th>p.MAP2K3</th>\n",
              "      <th>p.MAPKAPK2</th>\n",
              "      <th>p.MEK</th>\n",
              "      <th>p.MKK3.MKK6</th>\n",
              "      <th>p.MKK4</th>\n",
              "      <th>p.NFkB</th>\n",
              "      <th>p.p38</th>\n",
              "      <th>p.p53</th>\n",
              "      <th>p.p90RSK</th>\n",
              "      <th>p.PDPK1</th>\n",
              "      <th>p.PLCg2</th>\n",
              "      <th>p.RB</th>\n",
              "      <th>p.S6</th>\n",
              "      <th>p.S6K</th>\n",
              "      <th>p.SMAD23</th>\n",
              "      <th>p.SRC</th>\n",
              "      <th>p.STAT1</th>\n",
              "      <th>p.STAT3</th>\n",
              "      <th>full</th>\n",
              "      <th>iEGFR</th>\n",
              "      <th>iMEK</th>\n",
              "      <th>iPI3K</th>\n",
              "      <th>iPKC</th>\n",
              "    </tr>\n",
              "  </thead>\n",
              "  <tbody>\n",
              "    <tr>\n",
              "      <th>32144</th>\n",
              "      <td>17.0</td>\n",
              "      <td>0.000000</td>\n",
              "      <td>0.186628</td>\n",
              "      <td>0.000000</td>\n",
              "      <td>0.187872</td>\n",
              "      <td>0.059197</td>\n",
              "      <td>0.000000</td>\n",
              "      <td>0.238788</td>\n",
              "      <td>0.434176</td>\n",
              "      <td>0.069108</td>\n",
              "      <td>0.174190</td>\n",
              "      <td>0.119323</td>\n",
              "      <td>1.747904e-02</td>\n",
              "      <td>0.270231</td>\n",
              "      <td>0.000000</td>\n",
              "      <td>0.176506</td>\n",
              "      <td>0.149886</td>\n",
              "      <td>0.477343</td>\n",
              "      <td>0.189430</td>\n",
              "      <td>0.000000</td>\n",
              "      <td>0.258003</td>\n",
              "      <td>0.269546</td>\n",
              "      <td>0.090688</td>\n",
              "      <td>0.266821</td>\n",
              "      <td>0.472320</td>\n",
              "      <td>0.311925</td>\n",
              "      <td>0.128903</td>\n",
              "      <td>0.000000</td>\n",
              "      <td>0.222333</td>\n",
              "      <td>0.351393</td>\n",
              "      <td>0.059236</td>\n",
              "      <td>0.308478</td>\n",
              "      <td>0.108230</td>\n",
              "      <td>0.079232</td>\n",
              "      <td>0.243316</td>\n",
              "      <td>0.383451</td>\n",
              "      <td>0.000000</td>\n",
              "      <td>0</td>\n",
              "      <td>1</td>\n",
              "      <td>0</td>\n",
              "      <td>0</td>\n",
              "      <td>0</td>\n",
              "    </tr>\n",
              "    <tr>\n",
              "      <th>60919</th>\n",
              "      <td>14.0</td>\n",
              "      <td>0.144849</td>\n",
              "      <td>0.290175</td>\n",
              "      <td>0.000000</td>\n",
              "      <td>0.609172</td>\n",
              "      <td>0.105009</td>\n",
              "      <td>0.274215</td>\n",
              "      <td>0.690200</td>\n",
              "      <td>0.492490</td>\n",
              "      <td>0.589506</td>\n",
              "      <td>0.424396</td>\n",
              "      <td>0.477672</td>\n",
              "      <td>2.263436e-01</td>\n",
              "      <td>0.546672</td>\n",
              "      <td>0.286664</td>\n",
              "      <td>0.470860</td>\n",
              "      <td>0.306784</td>\n",
              "      <td>0.530096</td>\n",
              "      <td>0.525585</td>\n",
              "      <td>0.368515</td>\n",
              "      <td>0.474097</td>\n",
              "      <td>0.219957</td>\n",
              "      <td>0.682203</td>\n",
              "      <td>0.455872</td>\n",
              "      <td>0.672019</td>\n",
              "      <td>0.457393</td>\n",
              "      <td>0.105823</td>\n",
              "      <td>0.659704</td>\n",
              "      <td>0.428452</td>\n",
              "      <td>0.549105</td>\n",
              "      <td>0.203442</td>\n",
              "      <td>0.443498</td>\n",
              "      <td>0.277108</td>\n",
              "      <td>0.216520</td>\n",
              "      <td>0.117406</td>\n",
              "      <td>0.655146</td>\n",
              "      <td>0.337700</td>\n",
              "      <td>0</td>\n",
              "      <td>0</td>\n",
              "      <td>0</td>\n",
              "      <td>1</td>\n",
              "      <td>0</td>\n",
              "    </tr>\n",
              "    <tr>\n",
              "      <th>43948</th>\n",
              "      <td>9.0</td>\n",
              "      <td>0.096259</td>\n",
              "      <td>0.110349</td>\n",
              "      <td>0.000000</td>\n",
              "      <td>0.320655</td>\n",
              "      <td>0.128294</td>\n",
              "      <td>0.000000</td>\n",
              "      <td>0.000000</td>\n",
              "      <td>0.451216</td>\n",
              "      <td>0.000000</td>\n",
              "      <td>0.348912</td>\n",
              "      <td>0.267229</td>\n",
              "      <td>1.652476e-01</td>\n",
              "      <td>0.478217</td>\n",
              "      <td>0.161864</td>\n",
              "      <td>0.298917</td>\n",
              "      <td>0.080097</td>\n",
              "      <td>0.296879</td>\n",
              "      <td>0.354928</td>\n",
              "      <td>0.340092</td>\n",
              "      <td>0.352918</td>\n",
              "      <td>0.190953</td>\n",
              "      <td>0.088043</td>\n",
              "      <td>0.316666</td>\n",
              "      <td>0.604985</td>\n",
              "      <td>0.463776</td>\n",
              "      <td>0.243063</td>\n",
              "      <td>0.435051</td>\n",
              "      <td>0.216865</td>\n",
              "      <td>0.227945</td>\n",
              "      <td>0.081487</td>\n",
              "      <td>0.342536</td>\n",
              "      <td>0.326137</td>\n",
              "      <td>0.000000</td>\n",
              "      <td>0.229977</td>\n",
              "      <td>0.421074</td>\n",
              "      <td>0.118622</td>\n",
              "      <td>0</td>\n",
              "      <td>0</td>\n",
              "      <td>1</td>\n",
              "      <td>0</td>\n",
              "      <td>0</td>\n",
              "    </tr>\n",
              "    <tr>\n",
              "      <th>5968</th>\n",
              "      <td>7.0</td>\n",
              "      <td>0.000000</td>\n",
              "      <td>0.203844</td>\n",
              "      <td>0.148359</td>\n",
              "      <td>0.261251</td>\n",
              "      <td>0.050177</td>\n",
              "      <td>0.233024</td>\n",
              "      <td>0.186088</td>\n",
              "      <td>0.436514</td>\n",
              "      <td>0.000000</td>\n",
              "      <td>0.310556</td>\n",
              "      <td>0.333008</td>\n",
              "      <td>2.258945e-07</td>\n",
              "      <td>0.433348</td>\n",
              "      <td>0.195997</td>\n",
              "      <td>0.376125</td>\n",
              "      <td>0.231871</td>\n",
              "      <td>0.561306</td>\n",
              "      <td>0.173369</td>\n",
              "      <td>0.370820</td>\n",
              "      <td>0.112924</td>\n",
              "      <td>0.288906</td>\n",
              "      <td>0.353458</td>\n",
              "      <td>0.369845</td>\n",
              "      <td>0.396014</td>\n",
              "      <td>0.143377</td>\n",
              "      <td>0.000000</td>\n",
              "      <td>0.468445</td>\n",
              "      <td>0.134569</td>\n",
              "      <td>0.566780</td>\n",
              "      <td>0.030307</td>\n",
              "      <td>0.000000</td>\n",
              "      <td>0.002639</td>\n",
              "      <td>0.000000</td>\n",
              "      <td>0.144496</td>\n",
              "      <td>0.443081</td>\n",
              "      <td>0.296283</td>\n",
              "      <td>0</td>\n",
              "      <td>0</td>\n",
              "      <td>0</td>\n",
              "      <td>0</td>\n",
              "      <td>0</td>\n",
              "    </tr>\n",
              "    <tr>\n",
              "      <th>28571</th>\n",
              "      <td>7.0</td>\n",
              "      <td>0.001410</td>\n",
              "      <td>0.703016</td>\n",
              "      <td>0.015101</td>\n",
              "      <td>0.115311</td>\n",
              "      <td>0.000000</td>\n",
              "      <td>0.018963</td>\n",
              "      <td>0.000000</td>\n",
              "      <td>0.000000</td>\n",
              "      <td>0.155479</td>\n",
              "      <td>0.264104</td>\n",
              "      <td>0.515939</td>\n",
              "      <td>5.647544e-02</td>\n",
              "      <td>0.000000</td>\n",
              "      <td>0.080101</td>\n",
              "      <td>0.048789</td>\n",
              "      <td>0.193695</td>\n",
              "      <td>0.260437</td>\n",
              "      <td>0.101916</td>\n",
              "      <td>0.130713</td>\n",
              "      <td>0.000000</td>\n",
              "      <td>0.000000</td>\n",
              "      <td>0.599604</td>\n",
              "      <td>0.332640</td>\n",
              "      <td>0.336609</td>\n",
              "      <td>0.000000</td>\n",
              "      <td>0.201777</td>\n",
              "      <td>0.191582</td>\n",
              "      <td>0.201889</td>\n",
              "      <td>0.000000</td>\n",
              "      <td>0.133569</td>\n",
              "      <td>0.000000</td>\n",
              "      <td>0.000000</td>\n",
              "      <td>0.081475</td>\n",
              "      <td>0.000000</td>\n",
              "      <td>0.170713</td>\n",
              "      <td>0.131837</td>\n",
              "      <td>0</td>\n",
              "      <td>1</td>\n",
              "      <td>0</td>\n",
              "      <td>0</td>\n",
              "      <td>0</td>\n",
              "    </tr>\n",
              "  </tbody>\n",
              "</table>\n",
              "</div>"
            ],
            "text/plain": [
              "       time  b.CATENIN  cleavedCas   CyclinB  ...  iEGFR  iMEK  iPI3K  iPKC\n",
              "32144  17.0   0.000000    0.186628  0.000000  ...      1     0      0     0\n",
              "60919  14.0   0.144849    0.290175  0.000000  ...      0     0      1     0\n",
              "43948   9.0   0.096259    0.110349  0.000000  ...      0     1      0     0\n",
              "5968    7.0   0.000000    0.203844  0.148359  ...      0     0      0     0\n",
              "28571   7.0   0.001410    0.703016  0.015101  ...      1     0      0     0\n",
              "\n",
              "[5 rows x 42 columns]"
            ]
          },
          "metadata": {
            "tags": []
          },
          "execution_count": 18
        }
      ]
    },
    {
      "cell_type": "code",
      "metadata": {
        "id": "F79Z6r1BscHy",
        "colab_type": "code",
        "colab": {}
      },
      "source": [
        "# X_train, y_test = make_regression(n_features= len(X_train.columns), random_state=0)"
      ],
      "execution_count": 0,
      "outputs": []
    },
    {
      "cell_type": "code",
      "metadata": {
        "id": "nvaLd4mptJFG",
        "colab_type": "code",
        "colab": {}
      },
      "source": [
        "elastic= ElasticNet(random_state=0, normalize=True)\n",
        "#grid search \n",
        "search=GridSearchCV(estimator=elastic,param_grid={'alpha':np.logspace(-5,2,8),'l1_ratio':[.2,.4,.6,.8]},scoring='neg_mean_squared_error',n_jobs=-1,refit=True,cv=10)\n"
      ],
      "execution_count": 0,
      "outputs": []
    },
    {
      "cell_type": "code",
      "metadata": {
        "id": "mYDetoqxuEf5",
        "colab_type": "code",
        "outputId": "426e151c-73e4-469d-af43-e031b2d14a0f",
        "colab": {
          "base_uri": "https://localhost:8080/",
          "height": 204
        }
      },
      "source": [
        "search.fit(X_train,y_train)"
      ],
      "execution_count": 0,
      "outputs": [
        {
          "output_type": "execute_result",
          "data": {
            "text/plain": [
              "GridSearchCV(cv=10, error_score='raise-deprecating',\n",
              "             estimator=ElasticNet(alpha=1.0, copy_X=True, fit_intercept=True,\n",
              "                                  l1_ratio=0.5, max_iter=1000, normalize=True,\n",
              "                                  positive=False, precompute=False,\n",
              "                                  random_state=0, selection='cyclic',\n",
              "                                  tol=0.0001, warm_start=False),\n",
              "             iid='warn', n_jobs=-1,\n",
              "             param_grid={'alpha': array([1.e-05, 1.e-04, 1.e-03, 1.e-02, 1.e-01, 1.e+00, 1.e+01, 1.e+02]),\n",
              "                         'l1_ratio': [0.2, 0.4, 0.6, 0.8]},\n",
              "             pre_dispatch='2*n_jobs', refit=True, return_train_score=False,\n",
              "             scoring='neg_mean_squared_error', verbose=0)"
            ]
          },
          "metadata": {
            "tags": []
          },
          "execution_count": 20
        }
      ]
    },
    {
      "cell_type": "code",
      "metadata": {
        "id": "SI4ciaj9ucjx",
        "colab_type": "code",
        "outputId": "bf238455-e5c5-4a7a-e2f8-22d229a80667",
        "colab": {
          "base_uri": "https://localhost:8080/",
          "height": 34
        }
      },
      "source": [
        "pred=search.predict(X_test)\n",
        "sqrt(mean_squared_error(pred,y_test)) #elastic net RMSE"
      ],
      "execution_count": 0,
      "outputs": [
        {
          "output_type": "execute_result",
          "data": {
            "text/plain": [
              "0.618181277585146"
            ]
          },
          "metadata": {
            "tags": []
          },
          "execution_count": 22
        }
      ]
    },
    {
      "cell_type": "markdown",
      "metadata": {
        "id": "1sEAWqcFns3Y",
        "colab_type": "text"
      },
      "source": [
        "Does adding PCA components as features improve linear model performance?"
      ]
    },
    {
      "cell_type": "code",
      "metadata": {
        "id": "QwmEQPEhoxAo",
        "colab_type": "code",
        "colab": {}
      },
      "source": [
        "import seaborn as sns\n",
        "import matplotlib.pyplot as plt"
      ],
      "execution_count": 0,
      "outputs": []
    },
    {
      "cell_type": "code",
      "metadata": {
        "id": "k68iyNeq2BwR",
        "colab_type": "code",
        "colab": {}
      },
      "source": [
        "\n",
        "pca=PCA(n_components=5)\n",
        "reduced=pca.fit_transform(X)"
      ],
      "execution_count": 0,
      "outputs": []
    },
    {
      "cell_type": "code",
      "metadata": {
        "id": "3q4dkNoRpPxQ",
        "colab_type": "code",
        "outputId": "ca4d27d6-7f4e-465f-d980-006f4751238e",
        "colab": {
          "base_uri": "https://localhost:8080/",
          "height": 325
        }
      },
      "source": [
        "g=sns.barplot(x= [\"PC:\" + str(w+1) for w in range(len(pca.explained_variance_ratio_))] ,y=pca.explained_variance_ratio_)\n",
        "plt.xticks(rotation=45)\n",
        "plt.xlabel('Principal Component #')\n",
        "plt.ylabel('Proportion of explained variance')\n",
        "plt.title('Explained variance from PCA')"
      ],
      "execution_count": 0,
      "outputs": [
        {
          "output_type": "execute_result",
          "data": {
            "text/plain": [
              "Text(0.5, 1.0, 'Explained variance from PCA')"
            ]
          },
          "metadata": {
            "tags": []
          },
          "execution_count": 51
        },
        {
          "output_type": "display_data",
          "data": {
            "image/png": "[encoded data removed]",
            "text/plain": [
              "<Figure size 432x288 with 1 Axes>"
            ]
          },
          "metadata": {
            "tags": []
          }
        }
      ]
    },
    {
      "cell_type": "markdown",
      "metadata": {
        "id": "sx-CHqJMt8c_",
        "colab_type": "text"
      },
      "source": [
        "Most of the variance is explained by 1 component"
      ]
    },
    {
      "cell_type": "code",
      "metadata": {
        "id": "641QSq912NWl",
        "colab_type": "code",
        "outputId": "b8ad55d1-db1c-4c86-90eb-6a2fd49ef12a",
        "colab": {
          "base_uri": "https://localhost:8080/",
          "height": 204
        }
      },
      "source": [
        "#add first PC as feature\n",
        "xpca=pd.DataFrame(reduced[:,1], columns=['pc1'])\n",
        "xpca.head()"
      ],
      "execution_count": 0,
      "outputs": [
        {
          "output_type": "execute_result",
          "data": {
            "text/html": [
              "<div>\n",
              "<style scoped>\n",
              "    .dataframe tbody tr th:only-of-type {\n",
              "        vertical-align: middle;\n",
              "    }\n",
              "\n",
              "    .dataframe tbody tr th {\n",
              "        vertical-align: top;\n",
              "    }\n",
              "\n",
              "    .dataframe thead th {\n",
              "        text-align: right;\n",
              "    }\n",
              "</style>\n",
              "<table border=\"1\" class=\"dataframe\">\n",
              "  <thead>\n",
              "    <tr style=\"text-align: right;\">\n",
              "      <th></th>\n",
              "      <th>pc1</th>\n",
              "    </tr>\n",
              "  </thead>\n",
              "  <tbody>\n",
              "    <tr>\n",
              "      <th>0</th>\n",
              "      <td>0.161491</td>\n",
              "    </tr>\n",
              "    <tr>\n",
              "      <th>1</th>\n",
              "      <td>0.009323</td>\n",
              "    </tr>\n",
              "    <tr>\n",
              "      <th>2</th>\n",
              "      <td>0.336288</td>\n",
              "    </tr>\n",
              "    <tr>\n",
              "      <th>3</th>\n",
              "      <td>-0.761104</td>\n",
              "    </tr>\n",
              "    <tr>\n",
              "      <th>4</th>\n",
              "      <td>0.185128</td>\n",
              "    </tr>\n",
              "  </tbody>\n",
              "</table>\n",
              "</div>"
            ],
            "text/plain": [
              "        pc1\n",
              "0  0.161491\n",
              "1  0.009323\n",
              "2  0.336288\n",
              "3 -0.761104\n",
              "4  0.185128"
            ]
          },
          "metadata": {
            "tags": []
          },
          "execution_count": 54
        }
      ]
    },
    {
      "cell_type": "code",
      "metadata": {
        "id": "AHZt46zC3Y7X",
        "colab_type": "code",
        "outputId": "774a3bb2-3688-450e-83c0-ef30851ef241",
        "colab": {
          "base_uri": "https://localhost:8080/",
          "height": 34
        }
      },
      "source": [
        "X2=pd.concat([X,xpca], axis=1)\n",
        "X2.shape"
      ],
      "execution_count": 0,
      "outputs": [
        {
          "output_type": "execute_result",
          "data": {
            "text/plain": [
              "(83875, 43)"
            ]
          },
          "metadata": {
            "tags": []
          },
          "execution_count": 55
        }
      ]
    },
    {
      "cell_type": "code",
      "metadata": {
        "colab_type": "code",
        "id": "ICrXmP9n3ta-",
        "colab": {}
      },
      "source": [
        "#from sklearn.model_selection import train_test_split\n",
        "X_train,X_test,y_train,y_test = train_test_split(X2,y,test_size = 0.25, random_state=1234)"
      ],
      "execution_count": 0,
      "outputs": []
    },
    {
      "cell_type": "code",
      "metadata": {
        "colab_type": "code",
        "id": "pDKosJ653tbD",
        "colab": {}
      },
      "source": [
        "elastic= ElasticNet(random_state=0, normalize=True)\n",
        "search=GridSearchCV(estimator=elastic,param_grid={'alpha':np.logspace(-5,2,8),'l1_ratio':[.2,.4,.6,.8]},scoring='neg_mean_squared_error',n_jobs=1,refit=True,cv=10)\n"
      ],
      "execution_count": 0,
      "outputs": []
    },
    {
      "cell_type": "code",
      "metadata": {
        "colab_type": "code",
        "outputId": "8efc4fad-918f-4aad-d581-0bb6249aee08",
        "id": "_VpE5qeN3tbF",
        "colab": {
          "base_uri": "https://localhost:8080/",
          "height": 204
        }
      },
      "source": [
        "search.fit(X_train,y_train)"
      ],
      "execution_count": 0,
      "outputs": [
        {
          "output_type": "execute_result",
          "data": {
            "text/plain": [
              "GridSearchCV(cv=10, error_score='raise-deprecating',\n",
              "             estimator=ElasticNet(alpha=1.0, copy_X=True, fit_intercept=True,\n",
              "                                  l1_ratio=0.5, max_iter=1000, normalize=True,\n",
              "                                  positive=False, precompute=False,\n",
              "                                  random_state=0, selection='cyclic',\n",
              "                                  tol=0.0001, warm_start=False),\n",
              "             iid='warn', n_jobs=1,\n",
              "             param_grid={'alpha': array([1.e-05, 1.e-04, 1.e-03, 1.e-02, 1.e-01, 1.e+00, 1.e+01, 1.e+02]),\n",
              "                         'l1_ratio': [0.2, 0.4, 0.6, 0.8]},\n",
              "             pre_dispatch='2*n_jobs', refit=True, return_train_score=False,\n",
              "             scoring='neg_mean_squared_error', verbose=0)"
            ]
          },
          "metadata": {
            "tags": []
          },
          "execution_count": 58
        }
      ]
    },
    {
      "cell_type": "code",
      "metadata": {
        "colab_type": "code",
        "outputId": "f4888487-c5ae-43ad-f5a5-a330bf5ef88b",
        "id": "c5DgKzXm3tbJ",
        "colab": {
          "base_uri": "https://localhost:8080/",
          "height": 34
        }
      },
      "source": [
        "pred=search.predict(X_test)\n",
        "sqrt(mean_squared_error(pred,y_test))"
      ],
      "execution_count": 0,
      "outputs": [
        {
          "output_type": "execute_result",
          "data": {
            "text/plain": [
              "0.6181894389402947"
            ]
          },
          "metadata": {
            "tags": []
          },
          "execution_count": 59
        }
      ]
    },
    {
      "cell_type": "markdown",
      "metadata": {
        "id": "40dX2DqP4TW6",
        "colab_type": "text"
      },
      "source": [
        "Comparing the RMSE of models, adding principal components as features did not improve RMSE on predictions"
      ]
    }
  ]
}