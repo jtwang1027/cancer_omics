{
  "nbformat": 4,
  "nbformat_minor": 0,
  "metadata": {
    "colab": {
      "name": "2A_elastic_net.ipynb",
      "provenance": [],
      "collapsed_sections": [],
      "include_colab_link": true
    },
    "kernelspec": {
      "name": "python3",
      "display_name": "Python 3"
    }
  },
  "cells": [
    {
      "cell_type": "markdown",
      "metadata": {
        "id": "view-in-github",
        "colab_type": "text"
      },
      "source": [
        "<a href=\"https://colab.research.google.com/github/jtwang1027/cancer_omics/blob/master/2A_elastic_net.ipynb\" target=\"_parent\"><img src=\"https://colab.research.google.com/assets/colab-badge.svg\" alt=\"Open In Colab\"/></a>"
      ]
    },
    {
      "cell_type": "code",
      "metadata": {
        "id": "Bld_Ezkur-49",
        "colab_type": "code",
        "colab": {
          "base_uri": "https://localhost:8080/",
          "height": 54
        },
        "outputId": "d5728150-3980-491f-95ed-a0d9e5621d9b"
      },
      "source": [
        "from google.colab import drive\n",
        "drive.mount('/content/drive')"
      ],
      "execution_count": 17,
      "outputs": [
        {
          "output_type": "stream",
          "text": [
            "Drive already mounted at /content/drive; to attempt to forcibly remount, call drive.mount(\"/content/drive\", force_remount=True).\n"
          ],
          "name": "stdout"
        }
      ]
    },
    {
      "cell_type": "code",
      "metadata": {
        "id": "GAWlC1_nAoV6",
        "colab_type": "code",
        "colab": {}
      },
      "source": [
        "import pandas as pd\n",
        "import numpy as np\n",
        "from sklearn.preprocessing import MinMaxScaler\n",
        "from sklearn.model_selection import train_test_split\n",
        "\n",
        "from sklearn.linear_model import ElasticNet\n",
        "from sklearn.model_selection import GridSearchCV\n",
        "\n",
        "from sklearn.datasets import make_regression\n",
        "\n",
        "from sklearn.metrics import mean_squared_error\n",
        "from math import sqrt\n",
        "from sklearn.decomposition import PCA"
      ],
      "execution_count": 0,
      "outputs": []
    },
    {
      "cell_type": "code",
      "metadata": {
        "id": "fyooHiJQEvZm",
        "colab_type": "code",
        "colab": {}
      },
      "source": [
        "au= pd.read_csv('/content/drive/My Drive/hcc1599.csv') # read in data from example cell line"
      ],
      "execution_count": 0,
      "outputs": []
    },
    {
      "cell_type": "code",
      "metadata": {
        "id": "Z9pA7GMCF3Rp",
        "colab_type": "code",
        "colab": {}
      },
      "source": [
        "au.dropna(axis=1, inplace=True)\n",
        "encoded=pd.get_dummies(au.treatment, drop_first=True) #one hot encoding on treatments\n",
        "au=au.join(encoded)\n",
        "dropcol= ['cellID', 'fileID', 'cell_line','treatment']\n",
        "au.drop(  dropcol , axis=1, inplace=True)\n",
        "\n",
        "\n",
        "X= au.drop(['p.STAT5'], axis=1)\n",
        "y= au['p.STAT5']"
      ],
      "execution_count": 0,
      "outputs": []
    },
    {
      "cell_type": "code",
      "metadata": {
        "id": "JExkH0foGqCv",
        "colab_type": "code",
        "colab": {}
      },
      "source": [
        "scaler=MinMaxScaler()\n",
        "sub_col=['time','b.CATENIN', 'cleavedCas', 'CyclinB', 'GAPDH', 'IdU', 'Ki.67',\n",
        "       'p.4EBP1', 'p.Akt.Ser473.', 'p.AKT.Thr308.', 'p.AMPK', 'p.BTK',\n",
        "       'p.CREB', 'p.ERK', 'p.FAK', 'p.GSK3b', 'p.H3', 'p.HER2', 'p.JNK',\n",
        "       'p.MAP2K3', 'p.MAPKAPK2', 'p.MEK', 'p.MKK3.MKK6', 'p.MKK4', 'p.NFkB',\n",
        "       'p.p38', 'p.p53', 'p.p90RSK', 'p.PDPK1', 'p.PLCg2', 'p.RB', 'p.S6',\n",
        "       'p.S6K', 'p.SMAD23', 'p.SRC', 'p.STAT1', 'p.STAT3']"
      ],
      "execution_count": 0,
      "outputs": []
    },
    {
      "cell_type": "code",
      "metadata": {
        "id": "AdxbMLt5knlD",
        "colab_type": "code",
        "colab": {}
      },
      "source": [
        "X[sub_col]=scaler.fit_transform(X[sub_col])"
      ],
      "execution_count": 0,
      "outputs": []
    },
    {
      "cell_type": "code",
      "metadata": {
        "id": "yKtC9FVY5EcQ",
        "colab_type": "code",
        "colab": {
          "base_uri": "https://localhost:8080/",
          "height": 317
        },
        "outputId": "d0a8fc40-6c0e-47f6-c8b5-36a5c07dc5d4"
      },
      "source": [
        "X.describe()"
      ],
      "execution_count": 41,
      "outputs": [
        {
          "output_type": "execute_result",
          "data": {
            "text/html": [
              "<div>\n",
              "<style scoped>\n",
              "    .dataframe tbody tr th:only-of-type {\n",
              "        vertical-align: middle;\n",
              "    }\n",
              "\n",
              "    .dataframe tbody tr th {\n",
              "        vertical-align: top;\n",
              "    }\n",
              "\n",
              "    .dataframe thead th {\n",
              "        text-align: right;\n",
              "    }\n",
              "</style>\n",
              "<table border=\"1\" class=\"dataframe\">\n",
              "  <thead>\n",
              "    <tr style=\"text-align: right;\">\n",
              "      <th></th>\n",
              "      <th>time</th>\n",
              "      <th>b.CATENIN</th>\n",
              "      <th>cleavedCas</th>\n",
              "      <th>CyclinB</th>\n",
              "      <th>GAPDH</th>\n",
              "      <th>IdU</th>\n",
              "      <th>Ki.67</th>\n",
              "      <th>p.4EBP1</th>\n",
              "      <th>p.Akt.Ser473.</th>\n",
              "      <th>p.AKT.Thr308.</th>\n",
              "      <th>p.AMPK</th>\n",
              "      <th>p.BTK</th>\n",
              "      <th>p.CREB</th>\n",
              "      <th>p.ERK</th>\n",
              "      <th>p.FAK</th>\n",
              "      <th>p.GSK3b</th>\n",
              "      <th>p.H3</th>\n",
              "      <th>p.HER2</th>\n",
              "      <th>p.JNK</th>\n",
              "      <th>p.MAP2K3</th>\n",
              "      <th>p.MAPKAPK2</th>\n",
              "      <th>p.MEK</th>\n",
              "      <th>p.MKK3.MKK6</th>\n",
              "      <th>p.MKK4</th>\n",
              "      <th>p.NFkB</th>\n",
              "      <th>p.p38</th>\n",
              "      <th>p.p53</th>\n",
              "      <th>p.p90RSK</th>\n",
              "      <th>p.PDPK1</th>\n",
              "      <th>p.PLCg2</th>\n",
              "      <th>p.RB</th>\n",
              "      <th>p.S6</th>\n",
              "      <th>p.S6K</th>\n",
              "      <th>p.SMAD23</th>\n",
              "      <th>p.SRC</th>\n",
              "      <th>p.STAT1</th>\n",
              "      <th>p.STAT3</th>\n",
              "      <th>full</th>\n",
              "      <th>iEGFR</th>\n",
              "      <th>iMEK</th>\n",
              "      <th>iPI3K</th>\n",
              "      <th>iPKC</th>\n",
              "    </tr>\n",
              "  </thead>\n",
              "  <tbody>\n",
              "    <tr>\n",
              "      <th>count</th>\n",
              "      <td>83875.000000</td>\n",
              "      <td>83875.000000</td>\n",
              "      <td>83875.000000</td>\n",
              "      <td>83875.000000</td>\n",
              "      <td>83875.000000</td>\n",
              "      <td>83875.000000</td>\n",
              "      <td>83875.000000</td>\n",
              "      <td>83875.000000</td>\n",
              "      <td>83875.000000</td>\n",
              "      <td>83875.000000</td>\n",
              "      <td>83875.000000</td>\n",
              "      <td>83875.000000</td>\n",
              "      <td>8.387500e+04</td>\n",
              "      <td>83875.000000</td>\n",
              "      <td>83875.000000</td>\n",
              "      <td>83875.000000</td>\n",
              "      <td>83875.000000</td>\n",
              "      <td>83875.000000</td>\n",
              "      <td>83875.000000</td>\n",
              "      <td>83875.000000</td>\n",
              "      <td>83875.000000</td>\n",
              "      <td>83875.000000</td>\n",
              "      <td>83875.000000</td>\n",
              "      <td>83875.000000</td>\n",
              "      <td>83875.000000</td>\n",
              "      <td>83875.000000</td>\n",
              "      <td>83875.000000</td>\n",
              "      <td>83875.000000</td>\n",
              "      <td>83875.000000</td>\n",
              "      <td>83875.000000</td>\n",
              "      <td>83875.000000</td>\n",
              "      <td>83875.000000</td>\n",
              "      <td>83875.000000</td>\n",
              "      <td>83875.000000</td>\n",
              "      <td>83875.000000</td>\n",
              "      <td>83875.000000</td>\n",
              "      <td>83875.000000</td>\n",
              "      <td>83875.000000</td>\n",
              "      <td>83875.000000</td>\n",
              "      <td>83875.000000</td>\n",
              "      <td>83875.000000</td>\n",
              "      <td>83875.000000</td>\n",
              "    </tr>\n",
              "    <tr>\n",
              "      <th>mean</th>\n",
              "      <td>0.289226</td>\n",
              "      <td>0.165119</td>\n",
              "      <td>0.356437</td>\n",
              "      <td>0.107860</td>\n",
              "      <td>0.358082</td>\n",
              "      <td>0.141313</td>\n",
              "      <td>0.233835</td>\n",
              "      <td>0.236990</td>\n",
              "      <td>0.245015</td>\n",
              "      <td>0.188238</td>\n",
              "      <td>0.353340</td>\n",
              "      <td>0.308806</td>\n",
              "      <td>8.900056e-02</td>\n",
              "      <td>0.276090</td>\n",
              "      <td>0.152567</td>\n",
              "      <td>0.226012</td>\n",
              "      <td>0.198381</td>\n",
              "      <td>0.362181</td>\n",
              "      <td>0.183216</td>\n",
              "      <td>0.287818</td>\n",
              "      <td>0.201194</td>\n",
              "      <td>0.184079</td>\n",
              "      <td>0.356680</td>\n",
              "      <td>0.264590</td>\n",
              "      <td>0.515334</td>\n",
              "      <td>0.201270</td>\n",
              "      <td>0.146950</td>\n",
              "      <td>0.212492</td>\n",
              "      <td>0.178170</td>\n",
              "      <td>0.212959</td>\n",
              "      <td>0.157249</td>\n",
              "      <td>0.209683</td>\n",
              "      <td>0.100522</td>\n",
              "      <td>0.152788</td>\n",
              "      <td>0.153935</td>\n",
              "      <td>0.417881</td>\n",
              "      <td>0.135398</td>\n",
              "      <td>0.025335</td>\n",
              "      <td>0.163875</td>\n",
              "      <td>0.183452</td>\n",
              "      <td>0.169884</td>\n",
              "      <td>0.202301</td>\n",
              "    </tr>\n",
              "    <tr>\n",
              "      <th>std</th>\n",
              "      <td>0.319890</td>\n",
              "      <td>0.129427</td>\n",
              "      <td>0.307586</td>\n",
              "      <td>0.131694</td>\n",
              "      <td>0.218360</td>\n",
              "      <td>0.165401</td>\n",
              "      <td>0.214887</td>\n",
              "      <td>0.225477</td>\n",
              "      <td>0.193687</td>\n",
              "      <td>0.178627</td>\n",
              "      <td>0.122770</td>\n",
              "      <td>0.153995</td>\n",
              "      <td>8.323356e-02</td>\n",
              "      <td>0.204045</td>\n",
              "      <td>0.124466</td>\n",
              "      <td>0.237190</td>\n",
              "      <td>0.133245</td>\n",
              "      <td>0.179421</td>\n",
              "      <td>0.180408</td>\n",
              "      <td>0.212314</td>\n",
              "      <td>0.173417</td>\n",
              "      <td>0.128609</td>\n",
              "      <td>0.197302</td>\n",
              "      <td>0.168319</td>\n",
              "      <td>0.201496</td>\n",
              "      <td>0.156179</td>\n",
              "      <td>0.131121</td>\n",
              "      <td>0.207077</td>\n",
              "      <td>0.155175</td>\n",
              "      <td>0.183776</td>\n",
              "      <td>0.176455</td>\n",
              "      <td>0.195732</td>\n",
              "      <td>0.109621</td>\n",
              "      <td>0.143418</td>\n",
              "      <td>0.120056</td>\n",
              "      <td>0.184403</td>\n",
              "      <td>0.132339</td>\n",
              "      <td>0.157142</td>\n",
              "      <td>0.370164</td>\n",
              "      <td>0.387039</td>\n",
              "      <td>0.375533</td>\n",
              "      <td>0.401718</td>\n",
              "    </tr>\n",
              "    <tr>\n",
              "      <th>min</th>\n",
              "      <td>0.000000</td>\n",
              "      <td>0.000000</td>\n",
              "      <td>0.000000</td>\n",
              "      <td>0.000000</td>\n",
              "      <td>0.000000</td>\n",
              "      <td>0.000000</td>\n",
              "      <td>0.000000</td>\n",
              "      <td>0.000000</td>\n",
              "      <td>0.000000</td>\n",
              "      <td>0.000000</td>\n",
              "      <td>0.000000</td>\n",
              "      <td>0.000000</td>\n",
              "      <td>0.000000e+00</td>\n",
              "      <td>0.000000</td>\n",
              "      <td>0.000000</td>\n",
              "      <td>0.000000</td>\n",
              "      <td>0.000000</td>\n",
              "      <td>0.000000</td>\n",
              "      <td>0.000000</td>\n",
              "      <td>0.000000</td>\n",
              "      <td>0.000000</td>\n",
              "      <td>0.000000</td>\n",
              "      <td>0.000000</td>\n",
              "      <td>0.000000</td>\n",
              "      <td>0.000000</td>\n",
              "      <td>0.000000</td>\n",
              "      <td>0.000000</td>\n",
              "      <td>0.000000</td>\n",
              "      <td>0.000000</td>\n",
              "      <td>0.000000</td>\n",
              "      <td>0.000000</td>\n",
              "      <td>0.000000</td>\n",
              "      <td>0.000000</td>\n",
              "      <td>0.000000</td>\n",
              "      <td>0.000000</td>\n",
              "      <td>0.000000</td>\n",
              "      <td>0.000000</td>\n",
              "      <td>0.000000</td>\n",
              "      <td>0.000000</td>\n",
              "      <td>0.000000</td>\n",
              "      <td>0.000000</td>\n",
              "      <td>0.000000</td>\n",
              "    </tr>\n",
              "    <tr>\n",
              "      <th>25%</th>\n",
              "      <td>0.000000</td>\n",
              "      <td>0.045105</td>\n",
              "      <td>0.044239</td>\n",
              "      <td>0.000000</td>\n",
              "      <td>0.189382</td>\n",
              "      <td>0.000000</td>\n",
              "      <td>0.004620</td>\n",
              "      <td>0.000000</td>\n",
              "      <td>0.073002</td>\n",
              "      <td>0.000000</td>\n",
              "      <td>0.282014</td>\n",
              "      <td>0.209751</td>\n",
              "      <td>5.647363e-07</td>\n",
              "      <td>0.103234</td>\n",
              "      <td>0.026815</td>\n",
              "      <td>0.000000</td>\n",
              "      <td>0.096054</td>\n",
              "      <td>0.241747</td>\n",
              "      <td>0.000000</td>\n",
              "      <td>0.094369</td>\n",
              "      <td>0.000000</td>\n",
              "      <td>0.068570</td>\n",
              "      <td>0.218477</td>\n",
              "      <td>0.141737</td>\n",
              "      <td>0.364974</td>\n",
              "      <td>0.055654</td>\n",
              "      <td>0.025127</td>\n",
              "      <td>0.000000</td>\n",
              "      <td>0.009025</td>\n",
              "      <td>0.027737</td>\n",
              "      <td>0.000000</td>\n",
              "      <td>0.036441</td>\n",
              "      <td>0.000000</td>\n",
              "      <td>0.000000</td>\n",
              "      <td>0.037076</td>\n",
              "      <td>0.301143</td>\n",
              "      <td>0.000000</td>\n",
              "      <td>0.000000</td>\n",
              "      <td>0.000000</td>\n",
              "      <td>0.000000</td>\n",
              "      <td>0.000000</td>\n",
              "      <td>0.000000</td>\n",
              "    </tr>\n",
              "    <tr>\n",
              "      <th>50%</th>\n",
              "      <td>0.150000</td>\n",
              "      <td>0.158055</td>\n",
              "      <td>0.314350</td>\n",
              "      <td>0.059135</td>\n",
              "      <td>0.370675</td>\n",
              "      <td>0.115100</td>\n",
              "      <td>0.195693</td>\n",
              "      <td>0.198929</td>\n",
              "      <td>0.213871</td>\n",
              "      <td>0.161327</td>\n",
              "      <td>0.361756</td>\n",
              "      <td>0.314915</td>\n",
              "      <td>7.740761e-02</td>\n",
              "      <td>0.264429</td>\n",
              "      <td>0.145819</td>\n",
              "      <td>0.151054</td>\n",
              "      <td>0.199472</td>\n",
              "      <td>0.378448</td>\n",
              "      <td>0.150189</td>\n",
              "      <td>0.289169</td>\n",
              "      <td>0.200963</td>\n",
              "      <td>0.192022</td>\n",
              "      <td>0.375464</td>\n",
              "      <td>0.264965</td>\n",
              "      <td>0.572675</td>\n",
              "      <td>0.194002</td>\n",
              "      <td>0.131239</td>\n",
              "      <td>0.171571</td>\n",
              "      <td>0.164283</td>\n",
              "      <td>0.191607</td>\n",
              "      <td>0.101071</td>\n",
              "      <td>0.171326</td>\n",
              "      <td>0.064588</td>\n",
              "      <td>0.132622</td>\n",
              "      <td>0.150680</td>\n",
              "      <td>0.446954</td>\n",
              "      <td>0.113689</td>\n",
              "      <td>0.000000</td>\n",
              "      <td>0.000000</td>\n",
              "      <td>0.000000</td>\n",
              "      <td>0.000000</td>\n",
              "      <td>0.000000</td>\n",
              "    </tr>\n",
              "    <tr>\n",
              "      <th>75%</th>\n",
              "      <td>0.500000</td>\n",
              "      <td>0.262007</td>\n",
              "      <td>0.591649</td>\n",
              "      <td>0.177865</td>\n",
              "      <td>0.526949</td>\n",
              "      <td>0.197116</td>\n",
              "      <td>0.397917</td>\n",
              "      <td>0.413589</td>\n",
              "      <td>0.413427</td>\n",
              "      <td>0.322035</td>\n",
              "      <td>0.435337</td>\n",
              "      <td>0.411193</td>\n",
              "      <td>1.529911e-01</td>\n",
              "      <td>0.422391</td>\n",
              "      <td>0.247338</td>\n",
              "      <td>0.421739</td>\n",
              "      <td>0.289876</td>\n",
              "      <td>0.494419</td>\n",
              "      <td>0.300328</td>\n",
              "      <td>0.450356</td>\n",
              "      <td>0.352333</td>\n",
              "      <td>0.286264</td>\n",
              "      <td>0.503044</td>\n",
              "      <td>0.375977</td>\n",
              "      <td>0.676309</td>\n",
              "      <td>0.320973</td>\n",
              "      <td>0.226648</td>\n",
              "      <td>0.345870</td>\n",
              "      <td>0.292527</td>\n",
              "      <td>0.349631</td>\n",
              "      <td>0.254631</td>\n",
              "      <td>0.321703</td>\n",
              "      <td>0.184785</td>\n",
              "      <td>0.262647</td>\n",
              "      <td>0.250350</td>\n",
              "      <td>0.555764</td>\n",
              "      <td>0.228625</td>\n",
              "      <td>0.000000</td>\n",
              "      <td>0.000000</td>\n",
              "      <td>0.000000</td>\n",
              "      <td>0.000000</td>\n",
              "      <td>0.000000</td>\n",
              "    </tr>\n",
              "    <tr>\n",
              "      <th>max</th>\n",
              "      <td>1.000000</td>\n",
              "      <td>1.000000</td>\n",
              "      <td>1.000000</td>\n",
              "      <td>1.000000</td>\n",
              "      <td>1.000000</td>\n",
              "      <td>1.000000</td>\n",
              "      <td>1.000000</td>\n",
              "      <td>1.000000</td>\n",
              "      <td>1.000000</td>\n",
              "      <td>1.000000</td>\n",
              "      <td>1.000000</td>\n",
              "      <td>1.000000</td>\n",
              "      <td>1.000000e+00</td>\n",
              "      <td>1.000000</td>\n",
              "      <td>1.000000</td>\n",
              "      <td>1.000000</td>\n",
              "      <td>1.000000</td>\n",
              "      <td>1.000000</td>\n",
              "      <td>1.000000</td>\n",
              "      <td>1.000000</td>\n",
              "      <td>1.000000</td>\n",
              "      <td>1.000000</td>\n",
              "      <td>1.000000</td>\n",
              "      <td>1.000000</td>\n",
              "      <td>1.000000</td>\n",
              "      <td>1.000000</td>\n",
              "      <td>1.000000</td>\n",
              "      <td>1.000000</td>\n",
              "      <td>1.000000</td>\n",
              "      <td>1.000000</td>\n",
              "      <td>1.000000</td>\n",
              "      <td>1.000000</td>\n",
              "      <td>1.000000</td>\n",
              "      <td>1.000000</td>\n",
              "      <td>1.000000</td>\n",
              "      <td>1.000000</td>\n",
              "      <td>1.000000</td>\n",
              "      <td>1.000000</td>\n",
              "      <td>1.000000</td>\n",
              "      <td>1.000000</td>\n",
              "      <td>1.000000</td>\n",
              "      <td>1.000000</td>\n",
              "    </tr>\n",
              "  </tbody>\n",
              "</table>\n",
              "</div>"
            ],
            "text/plain": [
              "               time     b.CATENIN  ...         iPI3K          iPKC\n",
              "count  83875.000000  83875.000000  ...  83875.000000  83875.000000\n",
              "mean       0.289226      0.165119  ...      0.169884      0.202301\n",
              "std        0.319890      0.129427  ...      0.375533      0.401718\n",
              "min        0.000000      0.000000  ...      0.000000      0.000000\n",
              "25%        0.000000      0.045105  ...      0.000000      0.000000\n",
              "50%        0.150000      0.158055  ...      0.000000      0.000000\n",
              "75%        0.500000      0.262007  ...      0.000000      0.000000\n",
              "max        1.000000      1.000000  ...      1.000000      1.000000\n",
              "\n",
              "[8 rows x 42 columns]"
            ]
          },
          "metadata": {
            "tags": []
          },
          "execution_count": 41
        }
      ]
    },
    {
      "cell_type": "code",
      "metadata": {
        "id": "6XSh-1CMH5F5",
        "colab_type": "code",
        "colab": {}
      },
      "source": [
        "X_train,X_test,y_train,y_test = train_test_split(X,y,test_size = 0.25, random_state=1234)"
      ],
      "execution_count": 0,
      "outputs": []
    },
    {
      "cell_type": "code",
      "metadata": {
        "id": "F79Z6r1BscHy",
        "colab_type": "code",
        "colab": {}
      },
      "source": [
        "# X_train, y_test = make_regression(n_features= len(X_train.columns), random_state=0)"
      ],
      "execution_count": 0,
      "outputs": []
    },
    {
      "cell_type": "code",
      "metadata": {
        "id": "nvaLd4mptJFG",
        "colab_type": "code",
        "colab": {}
      },
      "source": [
        "elastic= ElasticNet(random_state=0, normalize=True)\n",
        "#grid search \n",
        "search=GridSearchCV(estimator=elastic,param_grid={'alpha':np.logspace(-5,2,8),'l1_ratio':[.2,.4,.6,.8]},scoring='neg_mean_squared_error',n_jobs=-1,refit=True,cv=10)\n"
      ],
      "execution_count": 0,
      "outputs": []
    },
    {
      "cell_type": "code",
      "metadata": {
        "id": "mYDetoqxuEf5",
        "colab_type": "code",
        "colab": {
          "base_uri": "https://localhost:8080/",
          "height": 224
        },
        "outputId": "0eca9267-3f9b-448b-b316-fee042d63f22"
      },
      "source": [
        "search.fit(X_train,y_train)"
      ],
      "execution_count": 44,
      "outputs": [
        {
          "output_type": "execute_result",
          "data": {
            "text/plain": [
              "GridSearchCV(cv=10, error_score='raise-deprecating',\n",
              "             estimator=ElasticNet(alpha=1.0, copy_X=True, fit_intercept=True,\n",
              "                                  l1_ratio=0.5, max_iter=1000, normalize=True,\n",
              "                                  positive=False, precompute=False,\n",
              "                                  random_state=0, selection='cyclic',\n",
              "                                  tol=0.0001, warm_start=False),\n",
              "             iid='warn', n_jobs=-1,\n",
              "             param_grid={'alpha': array([1.e-05, 1.e-04, 1.e-03, 1.e-02, 1.e-01, 1.e+00, 1.e+01, 1.e+02]),\n",
              "                         'l1_ratio': [0.2, 0.4, 0.6, 0.8]},\n",
              "             pre_dispatch='2*n_jobs', refit=True, return_train_score=False,\n",
              "             scoring='neg_mean_squared_error', verbose=0)"
            ]
          },
          "metadata": {
            "tags": []
          },
          "execution_count": 44
        }
      ]
    },
    {
      "cell_type": "code",
      "metadata": {
        "id": "SI4ciaj9ucjx",
        "colab_type": "code",
        "colab": {
          "base_uri": "https://localhost:8080/",
          "height": 34
        },
        "outputId": "33d87f15-caa4-45d6-f9f3-67a2b84c1ed4"
      },
      "source": [
        "pred=search.predict(X_test)\n",
        "sqrt(mean_squared_error(pred,y_test)) #elastic net RMSE"
      ],
      "execution_count": 45,
      "outputs": [
        {
          "output_type": "execute_result",
          "data": {
            "text/plain": [
              "0.618181277585146"
            ]
          },
          "metadata": {
            "tags": []
          },
          "execution_count": 45
        }
      ]
    },
    {
      "cell_type": "markdown",
      "metadata": {
        "id": "1sEAWqcFns3Y",
        "colab_type": "text"
      },
      "source": [
        "Does adding PCA components as features improve linear model performance?"
      ]
    },
    {
      "cell_type": "code",
      "metadata": {
        "id": "QwmEQPEhoxAo",
        "colab_type": "code",
        "colab": {}
      },
      "source": [
        "import seaborn as sns\n",
        "import matplotlib.pyplot as plt"
      ],
      "execution_count": 0,
      "outputs": []
    },
    {
      "cell_type": "code",
      "metadata": {
        "id": "k68iyNeq2BwR",
        "colab_type": "code",
        "colab": {}
      },
      "source": [
        "\n",
        "pca=PCA(n_components=10)\n",
        "reduced=pca.fit_transform(X)"
      ],
      "execution_count": 0,
      "outputs": []
    },
    {
      "cell_type": "code",
      "metadata": {
        "id": "3q4dkNoRpPxQ",
        "colab_type": "code",
        "colab": {
          "base_uri": "https://localhost:8080/",
          "height": 330
        },
        "outputId": "0f6785d3-25f4-47cf-e98b-9fec1bac6523"
      },
      "source": [
        "g=sns.barplot(x= [\"PC:\" + str(w+1) for w in range(len(pca.explained_variance_ratio_))] ,y=pca.explained_variance_ratio_)\n",
        "plt.xticks(rotation=45)\n",
        "plt.xlabel('Principal Component #')\n",
        "plt.ylabel('Proportion of explained variance')\n",
        "plt.title('Explained variance from PCA')"
      ],
      "execution_count": 104,
      "outputs": [
        {
          "output_type": "execute_result",
          "data": {
            "text/plain": [
              "Text(0.5, 1.0, 'Explained variance from PCA')"
            ]
          },
          "metadata": {
            "tags": []
          },
          "execution_count": 104
        },
        {
          "output_type": "display_data",
          "data": {
            "image/png": "[encoded data removed]",
            "text/plain": [
              "<Figure size 432x288 with 1 Axes>"
            ]
          },
          "metadata": {
            "tags": []
          }
        }
      ]
    },
    {
      "cell_type": "code",
      "metadata": {
        "id": "B5RNzHtE3kdT",
        "colab_type": "code",
        "colab": {
          "base_uri": "https://localhost:8080/",
          "height": 309
        },
        "outputId": "5d2ae41c-f58c-4760-e5a8-e3d89ebcfb8c"
      },
      "source": [
        "scale=4\n",
        "plt.scatter( reduced[:,0],reduced[:,1])\n",
        "plt.xlabel('Component 1',fontsize=20)\n",
        "plt.ylabel('Component 2',fontsize=20)\n",
        "plt.title(\"Biplot from PCA\",fontsize=20)\n",
        "for i in range(pca.components_.shape[1]):\n",
        "  x_arrow= pca.components_[0,i]*scale\n",
        "  y_arrow= pca.components_[1,i]*scale\n",
        "\n",
        "  if X_train.columns[i] in ['iPKC','iEGFR','iMEK','iPI3K','time']:\n",
        "    plt.arrow(0,0,x_arrow,y_arrow,color='r')\n",
        "    plt.text(x_arrow* 0.28, y_arrow * 0.28, X_train.columns[i], color = 'k', ha = 'center', va = 'center')    \n",
        "  else:\n",
        "    plt.arrow(0,0,x_arrow,y_arrow,color='g')\n",
        "#     plt.text(x_arrow* 1, y_arrow * 1, X_train.columns[i], color = 'k', ha = 'center', va = 'center')"
      ],
      "execution_count": 106,
      "outputs": [
        {
          "output_type": "display_data",
          "data": {
            "image/png": "[encoded data removed]",
            "text/plain": [
              "<Figure size 432x288 with 1 Axes>"
            ]
          },
          "metadata": {
            "tags": []
          }
        }
      ]
    },
    {
      "cell_type": "markdown",
      "metadata": {
        "id": "HegCXCPPGaRX",
        "colab_type": "text"
      },
      "source": [
        "green= protein columns\n",
        "red= treatment-based columns\n",
        "\n",
        "Interestingly, from this PCA plot we can see that the second principal component is largely determined by the treatment conditions. iPKC treatment results in a significantly different type of pSTAT5 response relative to iEGFR, iPI3K, and iMEK."
      ]
    },
    {
      "cell_type": "code",
      "metadata": {
        "id": "641QSq912NWl",
        "colab_type": "code",
        "outputId": "03d9a12d-b9d8-43b7-cfc9-cf073846a0e9",
        "colab": {
          "base_uri": "https://localhost:8080/",
          "height": 204
        }
      },
      "source": [
        "#add first 6 principal components as features\n",
        "xpca=pd.DataFrame(reduced[:,:6], columns=['pc' + str(i) for i in range(1,7)])\n",
        "xpca.head()"
      ],
      "execution_count": 59,
      "outputs": [
        {
          "output_type": "execute_result",
          "data": {
            "text/html": [
              "<div>\n",
              "<style scoped>\n",
              "    .dataframe tbody tr th:only-of-type {\n",
              "        vertical-align: middle;\n",
              "    }\n",
              "\n",
              "    .dataframe tbody tr th {\n",
              "        vertical-align: top;\n",
              "    }\n",
              "\n",
              "    .dataframe thead th {\n",
              "        text-align: right;\n",
              "    }\n",
              "</style>\n",
              "<table border=\"1\" class=\"dataframe\">\n",
              "  <thead>\n",
              "    <tr style=\"text-align: right;\">\n",
              "      <th></th>\n",
              "      <th>pc1</th>\n",
              "      <th>pc2</th>\n",
              "      <th>pc3</th>\n",
              "      <th>pc4</th>\n",
              "      <th>pc5</th>\n",
              "      <th>pc6</th>\n",
              "    </tr>\n",
              "  </thead>\n",
              "  <tbody>\n",
              "    <tr>\n",
              "      <th>0</th>\n",
              "      <td>0.143827</td>\n",
              "      <td>0.004802</td>\n",
              "      <td>-0.017752</td>\n",
              "      <td>-0.066686</td>\n",
              "      <td>0.238434</td>\n",
              "      <td>-0.373795</td>\n",
              "    </tr>\n",
              "    <tr>\n",
              "      <th>1</th>\n",
              "      <td>-0.008057</td>\n",
              "      <td>-0.063852</td>\n",
              "      <td>-0.066726</td>\n",
              "      <td>-0.005774</td>\n",
              "      <td>-0.277385</td>\n",
              "      <td>-0.441611</td>\n",
              "    </tr>\n",
              "    <tr>\n",
              "      <th>2</th>\n",
              "      <td>0.319928</td>\n",
              "      <td>-0.044904</td>\n",
              "      <td>-0.076755</td>\n",
              "      <td>0.017817</td>\n",
              "      <td>-0.282883</td>\n",
              "      <td>-0.334134</td>\n",
              "    </tr>\n",
              "    <tr>\n",
              "      <th>3</th>\n",
              "      <td>-0.777144</td>\n",
              "      <td>-0.091419</td>\n",
              "      <td>-0.008367</td>\n",
              "      <td>0.013000</td>\n",
              "      <td>-0.237579</td>\n",
              "      <td>-0.304584</td>\n",
              "    </tr>\n",
              "    <tr>\n",
              "      <th>4</th>\n",
              "      <td>0.167290</td>\n",
              "      <td>0.022954</td>\n",
              "      <td>-0.000483</td>\n",
              "      <td>-0.079786</td>\n",
              "      <td>0.326273</td>\n",
              "      <td>-0.377021</td>\n",
              "    </tr>\n",
              "  </tbody>\n",
              "</table>\n",
              "</div>"
            ],
            "text/plain": [
              "        pc1       pc2       pc3       pc4       pc5       pc6\n",
              "0  0.143827  0.004802 -0.017752 -0.066686  0.238434 -0.373795\n",
              "1 -0.008057 -0.063852 -0.066726 -0.005774 -0.277385 -0.441611\n",
              "2  0.319928 -0.044904 -0.076755  0.017817 -0.282883 -0.334134\n",
              "3 -0.777144 -0.091419 -0.008367  0.013000 -0.237579 -0.304584\n",
              "4  0.167290  0.022954 -0.000483 -0.079786  0.326273 -0.377021"
            ]
          },
          "metadata": {
            "tags": []
          },
          "execution_count": 59
        }
      ]
    },
    {
      "cell_type": "code",
      "metadata": {
        "colab_type": "code",
        "id": "ICrXmP9n3ta-",
        "colab": {}
      },
      "source": [
        "#from sklearn.model_selection import train_test_split\n",
        "X_train,X_test,y_train,y_test = train_test_split(X2,y,test_size = 0.25, random_state=1234)"
      ],
      "execution_count": 0,
      "outputs": []
    },
    {
      "cell_type": "code",
      "metadata": {
        "colab_type": "code",
        "id": "pDKosJ653tbD",
        "colab": {}
      },
      "source": [
        "elastic= ElasticNet(random_state=0, normalize=True)\n",
        "search=GridSearchCV(estimator=elastic,param_grid={'alpha':np.logspace(-5,2,8),'l1_ratio':[.2,.4,.6,.8]},scoring='neg_mean_squared_error',n_jobs=1,refit=True,cv=10)\n"
      ],
      "execution_count": 0,
      "outputs": []
    },
    {
      "cell_type": "code",
      "metadata": {
        "colab_type": "code",
        "outputId": "47374704-aa1a-417c-bfac-59263896635f",
        "id": "_VpE5qeN3tbF",
        "colab": {
          "base_uri": "https://localhost:8080/",
          "height": 224
        }
      },
      "source": [
        "search.fit(X_train,y_train)"
      ],
      "execution_count": 63,
      "outputs": [
        {
          "output_type": "execute_result",
          "data": {
            "text/plain": [
              "GridSearchCV(cv=10, error_score='raise-deprecating',\n",
              "             estimator=ElasticNet(alpha=1.0, copy_X=True, fit_intercept=True,\n",
              "                                  l1_ratio=0.5, max_iter=1000, normalize=True,\n",
              "                                  positive=False, precompute=False,\n",
              "                                  random_state=0, selection='cyclic',\n",
              "                                  tol=0.0001, warm_start=False),\n",
              "             iid='warn', n_jobs=1,\n",
              "             param_grid={'alpha': array([1.e-05, 1.e-04, 1.e-03, 1.e-02, 1.e-01, 1.e+00, 1.e+01, 1.e+02]),\n",
              "                         'l1_ratio': [0.2, 0.4, 0.6, 0.8]},\n",
              "             pre_dispatch='2*n_jobs', refit=True, return_train_score=False,\n",
              "             scoring='neg_mean_squared_error', verbose=0)"
            ]
          },
          "metadata": {
            "tags": []
          },
          "execution_count": 63
        }
      ]
    },
    {
      "cell_type": "code",
      "metadata": {
        "colab_type": "code",
        "outputId": "5c3f848a-d4ee-4d5a-875d-b8bc927d1c45",
        "id": "c5DgKzXm3tbJ",
        "colab": {
          "base_uri": "https://localhost:8080/",
          "height": 34
        }
      },
      "source": [
        "pred=search.predict(X_test)\n",
        "sqrt(mean_squared_error(pred,y_test))"
      ],
      "execution_count": 64,
      "outputs": [
        {
          "output_type": "execute_result",
          "data": {
            "text/plain": [
              "0.6182330214809026"
            ]
          },
          "metadata": {
            "tags": []
          },
          "execution_count": 64
        }
      ]
    },
    {
      "cell_type": "markdown",
      "metadata": {
        "id": "40dX2DqP4TW6",
        "colab_type": "text"
      },
      "source": [
        "Comparing the RMSE of models, adding principal components as features did not improve RMSE on predictions"
      ]
    }
  ]
}