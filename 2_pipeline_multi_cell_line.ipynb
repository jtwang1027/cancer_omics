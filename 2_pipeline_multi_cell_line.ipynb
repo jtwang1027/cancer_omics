{
  "nbformat": 4,
  "nbformat_minor": 0,
  "metadata": {
    "colab": {
      "name": "2- pipeline_multi_cell_line.ipynb",
      "provenance": [],
      "collapsed_sections": [],
      "machine_shape": "hm",
      "include_colab_link": true
    },
    "kernelspec": {
      "name": "python3",
      "display_name": "Python 3"
    },
    "accelerator": "GPU"
  },
  "cells": [
    {
      "cell_type": "markdown",
      "metadata": {
        "id": "view-in-github",
        "colab_type": "text"
      },
      "source": [
        "<a href=\"https://colab.research.google.com/github/jtwang1027/cancer_omics/blob/master/2_pipeline_multi_cell_line.ipynb\" target=\"_parent\"><img src=\"https://colab.research.google.com/assets/colab-badge.svg\" alt=\"Open In Colab\"/></a>"
      ]
    },
    {
      "cell_type": "code",
      "metadata": {
        "id": "jHy_4VqyBTnz",
        "colab_type": "code",
        "outputId": "933fb97b-d3c1-405a-dbf0-4e97cf26aae6",
        "colab": {
          "base_uri": "https://localhost:8080/",
          "height": 56
        }
      },
      "source": [
        "from google.colab import drive\n",
        "drive.mount('/content/drive')"
      ],
      "execution_count": 0,
      "outputs": [
        {
          "output_type": "stream",
          "text": [
            "Drive already mounted at /content/drive; to attempt to forcibly remount, call drive.mount(\"/content/drive\", force_remount=True).\n"
          ],
          "name": "stdout"
        }
      ]
    },
    {
      "cell_type": "code",
      "metadata": {
        "id": "GAWlC1_nAoV6",
        "colab_type": "code",
        "colab": {}
      },
      "source": [
        "import os\n",
        "import pandas as pd\n",
        "import numpy as np\n",
        "from sklearn.metrics import mean_squared_error\n",
        "from math import sqrt"
      ],
      "execution_count": 0,
      "outputs": []
    },
    {
      "cell_type": "code",
      "metadata": {
        "id": "q-qzzP8SIQ7-",
        "colab_type": "code",
        "outputId": "3c5ede53-8057-4ae9-d499-cd83aef7930f",
        "colab": {
          "base_uri": "https://localhost:8080/",
          "height": 54
        }
      },
      "source": [
        "%tensorflow_version 2.x\n",
        "import tensorflow as tf\n",
        "device_name = tf.test.gpu_device_name()\n",
        "if device_name != '/device:GPU:0':\n",
        "  raise SystemError('GPU device not found')\n",
        "print('Found GPU at: {}'.format(device_name))"
      ],
      "execution_count": 0,
      "outputs": [
        {
          "output_type": "stream",
          "text": [
            "TensorFlow 2.x selected.\n",
            "Found GPU at: /device:GPU:0\n"
          ],
          "name": "stdout"
        }
      ]
    },
    {
      "cell_type": "code",
      "metadata": {
        "colab_type": "code",
        "outputId": "0af3e8dc-2149-4339-8fdc-d8fa1c109bbf",
        "id": "_vfRc_LGP7tI",
        "colab": {
          "base_uri": "https://localhost:8080/",
          "height": 56
        }
      },
      "source": [
        "dir=\"/content/drive/My Drive/complete_cell_lines\"\n",
        "file_list=[]\n",
        "for file in os.listdir(dir):\n",
        "    if file.endswith(\".csv\"):\n",
        "        file_list.append(os.path.join(dir, file))\n",
        "print(file_list)"
      ],
      "execution_count": 0,
      "outputs": [
        {
          "output_type": "stream",
          "text": [
            "['/content/drive/My Drive/complete_cell_lines/184a1.csv', '/content/drive/My Drive/complete_cell_lines/bt20.csv', '/content/drive/My Drive/complete_cell_lines/bt474.csv', '/content/drive/My Drive/complete_cell_lines/bt549.csv', '/content/drive/My Drive/complete_cell_lines/cal148.csv', '/content/drive/My Drive/complete_cell_lines/cal51.csv', '/content/drive/My Drive/complete_cell_lines/cal851.csv', '/content/drive/My Drive/complete_cell_lines/du4475.csv', '/content/drive/My Drive/complete_cell_lines/efm192a.csv', '/content/drive/My Drive/complete_cell_lines/evsat.csv', '/content/drive/My Drive/complete_cell_lines/hbl100.csv', '/content/drive/My Drive/complete_cell_lines/hcc1187.csv', '/content/drive/My Drive/complete_cell_lines/hcc1395.csv', '/content/drive/My Drive/complete_cell_lines/hcc1419.csv', '/content/drive/My Drive/complete_cell_lines/hcc1500.csv', '/content/drive/My Drive/complete_cell_lines/hcc1569.csv', '/content/drive/My Drive/complete_cell_lines/hcc1599.csv', '/content/drive/My Drive/complete_cell_lines/hcc1937.csv', '/content/drive/My Drive/complete_cell_lines/hcc1954.csv', '/content/drive/My Drive/complete_cell_lines/hcc2157.csv', '/content/drive/My Drive/complete_cell_lines/hcc2185.csv', '/content/drive/My Drive/complete_cell_lines/hcc3153.csv', '/content/drive/My Drive/complete_cell_lines/hcc38.csv', '/content/drive/My Drive/complete_cell_lines/hcc70.csv', '/content/drive/My Drive/complete_cell_lines/hdqp1.csv', '/content/drive/My Drive/complete_cell_lines/jimt1.csv', '/content/drive/My Drive/complete_cell_lines/mcf10a.csv', '/content/drive/My Drive/complete_cell_lines/mcf10f.csv', '/content/drive/My Drive/complete_cell_lines/mcf7.csv', '/content/drive/My Drive/complete_cell_lines/mdakb2.csv', '/content/drive/My Drive/complete_cell_lines/mdamb134vi.csv', '/content/drive/My Drive/complete_cell_lines/mdamb157.csv', '/content/drive/My Drive/complete_cell_lines/mdamb175vii.csv', '/content/drive/My Drive/complete_cell_lines/mdamb361.csv', '/content/drive/My Drive/complete_cell_lines/mdamb415.csv', '/content/drive/My Drive/complete_cell_lines/mdamb453.csv', '/content/drive/My Drive/complete_cell_lines/mfm223.csv', '/content/drive/My Drive/complete_cell_lines/mpe600.csv', '/content/drive/My Drive/complete_cell_lines/mx1.csv', '/content/drive/My Drive/complete_cell_lines/ocubm.csv', '/content/drive/My Drive/complete_cell_lines/t47d.csv', '/content/drive/My Drive/complete_cell_lines/uacc812.csv', '/content/drive/My Drive/complete_cell_lines/uacc893.csv', '/content/drive/My Drive/complete_cell_lines/zr7530.csv']\n"
          ],
          "name": "stdout"
        }
      ]
    },
    {
      "cell_type": "code",
      "metadata": {
        "id": "jg7_0TgUAdcJ",
        "colab_type": "code",
        "colab": {}
      },
      "source": [
        "#what columns are common to all data?\n",
        "col=set()\n",
        "for f in file_list:\n",
        "  curr=pd.read_csv(f, index_col=0, nrows=10)\n",
        "  curr.dropna(axis=1, inplace=True) \n",
        "  curr=curr.columns.tolist()\n",
        "  curr=set(curr)\n",
        "  # print(f)\n",
        "  if col==set():\n",
        "    col=curr # set as baseline columns\n",
        "  else:\n",
        "    col.intersection(curr)\n",
        "    # print(f)\n",
        "col= list(col)"
      ],
      "execution_count": 0,
      "outputs": []
    },
    {
      "cell_type": "code",
      "metadata": {
        "id": "Cj6tJ36hx8Ff",
        "colab_type": "code",
        "outputId": "ea2e7b32-e0d6-4ed8-e2e3-87720c007841",
        "colab": {
          "base_uri": "https://localhost:8080/",
          "height": 784
        }
      },
      "source": [
        "col"
      ],
      "execution_count": 0,
      "outputs": [
        {
          "output_type": "execute_result",
          "data": {
            "text/plain": [
              "['cleavedCas',\n",
              " 'Ki.67',\n",
              " 'fileID',\n",
              " 'p.JNK',\n",
              " 'p.SRC',\n",
              " 'b.CATENIN',\n",
              " 'time',\n",
              " 'p.p38',\n",
              " 'p.PDPK1',\n",
              " 'p.BTK',\n",
              " 'p.MKK3.MKK6',\n",
              " 'p.SMAD23',\n",
              " 'p.H3',\n",
              " 'p.STAT3',\n",
              " 'p.Akt.Ser473.',\n",
              " 'p.STAT5',\n",
              " 'IdU',\n",
              " 'p.AKT.Thr308.',\n",
              " 'p.MEK',\n",
              " 'p.NFkB',\n",
              " 'p.GSK3b',\n",
              " 'p.S6K',\n",
              " 'cellID',\n",
              " 'p.ERK',\n",
              " 'cell_line',\n",
              " 'p.MKK4',\n",
              " 'p.MAP2K3',\n",
              " 'p.MAPKAPK2',\n",
              " 'p.AMPK',\n",
              " 'p.HER2',\n",
              " 'p.STAT1',\n",
              " 'p.PLCg2',\n",
              " 'p.p53',\n",
              " 'p.4EBP1',\n",
              " 'p.RB',\n",
              " 'p.CREB',\n",
              " 'GAPDH',\n",
              " 'p.S6',\n",
              " 'p.FAK',\n",
              " 'CyclinB',\n",
              " 'p.p90RSK']"
            ]
          },
          "metadata": {
            "tags": []
          },
          "execution_count": 7
        }
      ]
    },
    {
      "cell_type": "code",
      "metadata": {
        "id": "Db5kpDYeHHEO",
        "colab_type": "code",
        "colab": {}
      },
      "source": [
        "#which cell lines have treatment data\n",
        "file_tr=[]\n",
        "for f in file_list:\n",
        "  curr=pd.read_csv(f, index_col=0, nrows=0).columns.tolist()\n",
        "  # print(f)\n",
        "  if 'p.STAT5' in curr:\n",
        "    file_tr.append(f)\n",
        "# file_tr"
      ],
      "execution_count": 0,
      "outputs": []
    },
    {
      "cell_type": "code",
      "metadata": {
        "id": "XYg-xQmoF83s",
        "colab_type": "code",
        "colab": {}
      },
      "source": [
        "from sklearn.preprocessing import MinMaxScaler"
      ],
      "execution_count": 0,
      "outputs": []
    },
    {
      "cell_type": "code",
      "metadata": {
        "colab_type": "code",
        "id": "D36g7g8G0omw",
        "colab": {}
      },
      "source": [
        "def process(filenames, predictor= 'p.STAT5'):\n",
        "  ''' input filename, downloads csv, preprocessing, minmaxscaling\n",
        "  returns X and y for train/test/split ; predictor is the predictor column'''\n",
        "  \n",
        "  df=pd.DataFrame()\n",
        "  for fi in filenames:\n",
        "    temp= pd.read_csv(fi)\n",
        "    df=pd.concat([df,temp],axis=0)\n",
        "    \n",
        "  df.dropna(axis=1, inplace=True)\n",
        "  #should add in synchronization for treatment times\n",
        "  \n",
        "  if 'treatment' in df.columns: # will likely get dropped, not in all datasets\n",
        "    encoded1=pd.get_dummies(df.treatment, drop_first=True)\n",
        "    df=df.join(encoded1)\n",
        "#   if 'cell_line' in df.columns: #one hot encode cell line\n",
        "#     print(f'# unique lines: {df.cell_line.unique()}')\n",
        "#     encoded2=pd.get_dummies(df['cell_line'], drop_first=False)\n",
        "#     print(encoded2)\n",
        "#     print('cell line encoded')\n",
        "#     df=df.join(encoded2)\n",
        "  \n",
        "  df=df.select_dtypes(include=['float64'])#,'uint8'])\n",
        "  \n",
        "#   predictor=df.columns[-1] #make it the last one\n",
        "  \n",
        "  print(f'predictor column: {predictor}')\n",
        "  \n",
        "  X= df.drop([predictor], axis=1)\n",
        "  \n",
        "  #scale remaining columns\n",
        "  scaler=MinMaxScaler()\n",
        "  X[X.columns]=scaler.fit_transform(X)\n",
        "\n",
        "  \n",
        "  \n",
        "  y= df[predictor]\n",
        "\n",
        "  return(X,y)"
      ],
      "execution_count": 0,
      "outputs": []
    },
    {
      "cell_type": "code",
      "metadata": {
        "id": "vQ_ogWL3PRwa",
        "colab_type": "code",
        "outputId": "f050fb30-1eeb-4118-d50e-37d9b6c28446",
        "colab": {
          "base_uri": "https://localhost:8080/",
          "height": 36
        }
      },
      "source": [
        "X,y= process(file_list[:4])"
      ],
      "execution_count": 0,
      "outputs": [
        {
          "output_type": "stream",
          "text": [
            "predictor column: p.STAT5\n"
          ],
          "name": "stdout"
        }
      ]
    },
    {
      "cell_type": "code",
      "metadata": {
        "id": "WkZZOGH28CiQ",
        "colab_type": "code",
        "colab": {}
      },
      "source": [
        "temp1=pd.read_csv(file_list[0])\n",
        "temp2=pd.read_csv(file_list[1])"
      ],
      "execution_count": 0,
      "outputs": []
    },
    {
      "cell_type": "code",
      "metadata": {
        "id": "B3DtTHSx8-f5",
        "colab_type": "code",
        "outputId": "a2557949-89f9-478d-e2ef-28ca5f26e7b4",
        "colab": {
          "base_uri": "https://localhost:8080/",
          "height": 153
        }
      },
      "source": [
        "temp=pd.concat([temp1,temp2], axis=0)\n",
        "temp.columns"
      ],
      "execution_count": 0,
      "outputs": [
        {
          "output_type": "execute_result",
          "data": {
            "text/plain": [
              "Index(['treatment', 'cell_line', 'time', 'cellID', 'fileID', 'b.CATENIN',\n",
              "       'cleavedCas', 'CyclinB', 'GAPDH', 'IdU', 'Ki.67', 'p.4EBP1',\n",
              "       'p.Akt.Ser473.', 'p.AKT.Thr308.', 'p.AMPK', 'p.BTK', 'p.CREB', 'p.ERK',\n",
              "       'p.FAK', 'p.GSK3b', 'p.H3', 'p.HER2', 'p.JNK', 'p.MAP2K3', 'p.MAPKAPK2',\n",
              "       'p.MEK', 'p.MKK3.MKK6', 'p.MKK4', 'p.NFkB', 'p.p38', 'p.p53',\n",
              "       'p.p90RSK', 'p.PDPK1', 'p.PLCg2', 'p.RB', 'p.S6', 'p.S6K', 'p.SMAD23',\n",
              "       'p.SRC', 'p.STAT1', 'p.STAT3', 'p.STAT5'],\n",
              "      dtype='object')"
            ]
          },
          "metadata": {
            "tags": []
          },
          "execution_count": 106
        }
      ]
    },
    {
      "cell_type": "code",
      "metadata": {
        "id": "fgXgtq5C88Cg",
        "colab_type": "code",
        "outputId": "8904cc85-af45-467c-99bd-62130f89e3be",
        "colab": {
          "base_uri": "https://localhost:8080/",
          "height": 34
        }
      },
      "source": [
        "temp.cell_line.unique()"
      ],
      "execution_count": 0,
      "outputs": [
        {
          "output_type": "execute_result",
          "data": {
            "text/plain": [
              "array(['184A1', 'BT20'], dtype=object)"
            ]
          },
          "metadata": {
            "tags": []
          },
          "execution_count": 107
        }
      ]
    },
    {
      "cell_type": "code",
      "metadata": {
        "id": "-sHdm_tZ9K5U",
        "colab_type": "code",
        "colab": {}
      },
      "source": [
        "encoded2=pd.get_dummies(df['cell_line'], drop_first=True)"
      ],
      "execution_count": 0,
      "outputs": []
    },
    {
      "cell_type": "code",
      "metadata": {
        "id": "Mggr4b4B9Xql",
        "colab_type": "code",
        "colab": {}
      },
      "source": [
        "encoded2=pd.get_dummies(temp['cell_line'], drop_first=False)"
      ],
      "execution_count": 0,
      "outputs": []
    },
    {
      "cell_type": "code",
      "metadata": {
        "id": "KlJ3KoM5-tQV",
        "colab_type": "code",
        "outputId": "0ec6a8fb-f954-49ed-88d7-3d2cde0f8a22",
        "colab": {
          "base_uri": "https://localhost:8080/",
          "height": 34
        }
      },
      "source": [
        "temp.cell_line.unique()"
      ],
      "execution_count": 0,
      "outputs": [
        {
          "output_type": "execute_result",
          "data": {
            "text/plain": [
              "array(['184A1', 'BT20'], dtype=object)"
            ]
          },
          "metadata": {
            "tags": []
          },
          "execution_count": 117
        }
      ]
    },
    {
      "cell_type": "code",
      "metadata": {
        "id": "R1vZ3Irj-rA6",
        "colab_type": "code",
        "outputId": "bb1930f7-99b8-4f7d-c115-84dfdd83d986",
        "colab": {
          "base_uri": "https://localhost:8080/",
          "height": 419
        }
      },
      "source": [
        "encoded2"
      ],
      "execution_count": 0,
      "outputs": [
        {
          "output_type": "execute_result",
          "data": {
            "text/html": [
              "<div>\n",
              "<style scoped>\n",
              "    .dataframe tbody tr th:only-of-type {\n",
              "        vertical-align: middle;\n",
              "    }\n",
              "\n",
              "    .dataframe tbody tr th {\n",
              "        vertical-align: top;\n",
              "    }\n",
              "\n",
              "    .dataframe thead th {\n",
              "        text-align: right;\n",
              "    }\n",
              "</style>\n",
              "<table border=\"1\" class=\"dataframe\">\n",
              "  <thead>\n",
              "    <tr style=\"text-align: right;\">\n",
              "      <th></th>\n",
              "      <th>184A1</th>\n",
              "      <th>BT20</th>\n",
              "    </tr>\n",
              "  </thead>\n",
              "  <tbody>\n",
              "    <tr>\n",
              "      <th>0</th>\n",
              "      <td>1</td>\n",
              "      <td>0</td>\n",
              "    </tr>\n",
              "    <tr>\n",
              "      <th>1</th>\n",
              "      <td>1</td>\n",
              "      <td>0</td>\n",
              "    </tr>\n",
              "    <tr>\n",
              "      <th>2</th>\n",
              "      <td>1</td>\n",
              "      <td>0</td>\n",
              "    </tr>\n",
              "    <tr>\n",
              "      <th>3</th>\n",
              "      <td>1</td>\n",
              "      <td>0</td>\n",
              "    </tr>\n",
              "    <tr>\n",
              "      <th>4</th>\n",
              "      <td>1</td>\n",
              "      <td>0</td>\n",
              "    </tr>\n",
              "    <tr>\n",
              "      <th>...</th>\n",
              "      <td>...</td>\n",
              "      <td>...</td>\n",
              "    </tr>\n",
              "    <tr>\n",
              "      <th>412576</th>\n",
              "      <td>0</td>\n",
              "      <td>1</td>\n",
              "    </tr>\n",
              "    <tr>\n",
              "      <th>412577</th>\n",
              "      <td>0</td>\n",
              "      <td>1</td>\n",
              "    </tr>\n",
              "    <tr>\n",
              "      <th>412578</th>\n",
              "      <td>0</td>\n",
              "      <td>1</td>\n",
              "    </tr>\n",
              "    <tr>\n",
              "      <th>412579</th>\n",
              "      <td>0</td>\n",
              "      <td>1</td>\n",
              "    </tr>\n",
              "    <tr>\n",
              "      <th>412580</th>\n",
              "      <td>0</td>\n",
              "      <td>1</td>\n",
              "    </tr>\n",
              "  </tbody>\n",
              "</table>\n",
              "<p>784959 rows × 2 columns</p>\n",
              "</div>"
            ],
            "text/plain": [
              "        184A1  BT20\n",
              "0           1     0\n",
              "1           1     0\n",
              "2           1     0\n",
              "3           1     0\n",
              "4           1     0\n",
              "...       ...   ...\n",
              "412576      0     1\n",
              "412577      0     1\n",
              "412578      0     1\n",
              "412579      0     1\n",
              "412580      0     1\n",
              "\n",
              "[784959 rows x 2 columns]"
            ]
          },
          "metadata": {
            "tags": []
          },
          "execution_count": 119
        }
      ]
    },
    {
      "cell_type": "code",
      "metadata": {
        "id": "BreLz2L69K73",
        "colab_type": "code",
        "outputId": "9aa25847-2c9c-45df-f996-edd853ba6cc7",
        "colab": {
          "base_uri": "https://localhost:8080/",
          "height": 439
        }
      },
      "source": [
        "# temp.join(encoded2)\n",
        "pd.merge(temp, encoded2, left_index=True, right_index=True)\n"
      ],
      "execution_count": 0,
      "outputs": [
        {
          "output_type": "execute_result",
          "data": {
            "text/html": [
              "<div>\n",
              "<style scoped>\n",
              "    .dataframe tbody tr th:only-of-type {\n",
              "        vertical-align: middle;\n",
              "    }\n",
              "\n",
              "    .dataframe tbody tr th {\n",
              "        vertical-align: top;\n",
              "    }\n",
              "\n",
              "    .dataframe thead th {\n",
              "        text-align: right;\n",
              "    }\n",
              "</style>\n",
              "<table border=\"1\" class=\"dataframe\">\n",
              "  <thead>\n",
              "    <tr style=\"text-align: right;\">\n",
              "      <th></th>\n",
              "      <th>treatment</th>\n",
              "      <th>cell_line</th>\n",
              "      <th>time</th>\n",
              "      <th>cellID</th>\n",
              "      <th>fileID</th>\n",
              "      <th>b.CATENIN</th>\n",
              "      <th>cleavedCas</th>\n",
              "      <th>CyclinB</th>\n",
              "      <th>GAPDH</th>\n",
              "      <th>IdU</th>\n",
              "      <th>Ki.67</th>\n",
              "      <th>p.4EBP1</th>\n",
              "      <th>p.Akt.Ser473.</th>\n",
              "      <th>p.AKT.Thr308.</th>\n",
              "      <th>p.AMPK</th>\n",
              "      <th>p.BTK</th>\n",
              "      <th>p.CREB</th>\n",
              "      <th>p.ERK</th>\n",
              "      <th>p.FAK</th>\n",
              "      <th>p.GSK3b</th>\n",
              "      <th>p.H3</th>\n",
              "      <th>p.HER2</th>\n",
              "      <th>p.JNK</th>\n",
              "      <th>p.MAP2K3</th>\n",
              "      <th>p.MAPKAPK2</th>\n",
              "      <th>p.MEK</th>\n",
              "      <th>p.MKK3.MKK6</th>\n",
              "      <th>p.MKK4</th>\n",
              "      <th>p.NFkB</th>\n",
              "      <th>p.p38</th>\n",
              "      <th>p.p53</th>\n",
              "      <th>p.p90RSK</th>\n",
              "      <th>p.PDPK1</th>\n",
              "      <th>p.PLCg2</th>\n",
              "      <th>p.RB</th>\n",
              "      <th>p.S6</th>\n",
              "      <th>p.S6K</th>\n",
              "      <th>p.SMAD23</th>\n",
              "      <th>p.SRC</th>\n",
              "      <th>p.STAT1</th>\n",
              "      <th>p.STAT3</th>\n",
              "      <th>p.STAT5</th>\n",
              "      <th>184A1</th>\n",
              "      <th>BT20</th>\n",
              "    </tr>\n",
              "  </thead>\n",
              "  <tbody>\n",
              "    <tr>\n",
              "      <th>0</th>\n",
              "      <td>EGF</td>\n",
              "      <td>184A1</td>\n",
              "      <td>0.0</td>\n",
              "      <td>1</td>\n",
              "      <td>2656</td>\n",
              "      <td>0.224784</td>\n",
              "      <td>1.584511</td>\n",
              "      <td>2.41223</td>\n",
              "      <td>1.586472</td>\n",
              "      <td>5.09198</td>\n",
              "      <td>1.59085</td>\n",
              "      <td>0.993163</td>\n",
              "      <td>0.550685</td>\n",
              "      <td>1.986163</td>\n",
              "      <td>2.103893</td>\n",
              "      <td>1.552072</td>\n",
              "      <td>0.342839</td>\n",
              "      <td>1.945108</td>\n",
              "      <td>1.974801</td>\n",
              "      <td>1.10118</td>\n",
              "      <td>2.65877</td>\n",
              "      <td>4.030961</td>\n",
              "      <td>1.727544</td>\n",
              "      <td>1.412370</td>\n",
              "      <td>0.499066</td>\n",
              "      <td>0.934936</td>\n",
              "      <td>1.178910</td>\n",
              "      <td>1.26944</td>\n",
              "      <td>1.763922</td>\n",
              "      <td>1.505088</td>\n",
              "      <td>0.798554</td>\n",
              "      <td>2.88592</td>\n",
              "      <td>0.634713</td>\n",
              "      <td>1.998328</td>\n",
              "      <td>6.12288</td>\n",
              "      <td>4.63975</td>\n",
              "      <td>0.331558</td>\n",
              "      <td>2.533238</td>\n",
              "      <td>0.776630</td>\n",
              "      <td>1.242880</td>\n",
              "      <td>0.704653</td>\n",
              "      <td>-0.577393</td>\n",
              "      <td>1</td>\n",
              "      <td>0</td>\n",
              "    </tr>\n",
              "    <tr>\n",
              "      <th>0</th>\n",
              "      <td>EGF</td>\n",
              "      <td>184A1</td>\n",
              "      <td>0.0</td>\n",
              "      <td>1</td>\n",
              "      <td>2656</td>\n",
              "      <td>0.224784</td>\n",
              "      <td>1.584511</td>\n",
              "      <td>2.41223</td>\n",
              "      <td>1.586472</td>\n",
              "      <td>5.09198</td>\n",
              "      <td>1.59085</td>\n",
              "      <td>0.993163</td>\n",
              "      <td>0.550685</td>\n",
              "      <td>1.986163</td>\n",
              "      <td>2.103893</td>\n",
              "      <td>1.552072</td>\n",
              "      <td>0.342839</td>\n",
              "      <td>1.945108</td>\n",
              "      <td>1.974801</td>\n",
              "      <td>1.10118</td>\n",
              "      <td>2.65877</td>\n",
              "      <td>4.030961</td>\n",
              "      <td>1.727544</td>\n",
              "      <td>1.412370</td>\n",
              "      <td>0.499066</td>\n",
              "      <td>0.934936</td>\n",
              "      <td>1.178910</td>\n",
              "      <td>1.26944</td>\n",
              "      <td>1.763922</td>\n",
              "      <td>1.505088</td>\n",
              "      <td>0.798554</td>\n",
              "      <td>2.88592</td>\n",
              "      <td>0.634713</td>\n",
              "      <td>1.998328</td>\n",
              "      <td>6.12288</td>\n",
              "      <td>4.63975</td>\n",
              "      <td>0.331558</td>\n",
              "      <td>2.533238</td>\n",
              "      <td>0.776630</td>\n",
              "      <td>1.242880</td>\n",
              "      <td>0.704653</td>\n",
              "      <td>-0.577393</td>\n",
              "      <td>0</td>\n",
              "      <td>1</td>\n",
              "    </tr>\n",
              "    <tr>\n",
              "      <th>0</th>\n",
              "      <td>EGF</td>\n",
              "      <td>BT20</td>\n",
              "      <td>0.0</td>\n",
              "      <td>1</td>\n",
              "      <td>173</td>\n",
              "      <td>1.473732</td>\n",
              "      <td>3.442083</td>\n",
              "      <td>1.53231</td>\n",
              "      <td>3.154426</td>\n",
              "      <td>4.25020</td>\n",
              "      <td>3.90564</td>\n",
              "      <td>3.913590</td>\n",
              "      <td>4.685157</td>\n",
              "      <td>3.520813</td>\n",
              "      <td>2.940114</td>\n",
              "      <td>2.973216</td>\n",
              "      <td>1.327159</td>\n",
              "      <td>4.246362</td>\n",
              "      <td>2.993972</td>\n",
              "      <td>4.81318</td>\n",
              "      <td>1.71397</td>\n",
              "      <td>5.097469</td>\n",
              "      <td>1.437622</td>\n",
              "      <td>1.760643</td>\n",
              "      <td>2.345361</td>\n",
              "      <td>2.128692</td>\n",
              "      <td>2.959242</td>\n",
              "      <td>4.26799</td>\n",
              "      <td>3.348944</td>\n",
              "      <td>2.470509</td>\n",
              "      <td>2.739179</td>\n",
              "      <td>4.30421</td>\n",
              "      <td>1.933920</td>\n",
              "      <td>3.557209</td>\n",
              "      <td>3.53145</td>\n",
              "      <td>4.46999</td>\n",
              "      <td>2.019960</td>\n",
              "      <td>2.416691</td>\n",
              "      <td>3.938022</td>\n",
              "      <td>3.128716</td>\n",
              "      <td>2.849716</td>\n",
              "      <td>2.469874</td>\n",
              "      <td>1</td>\n",
              "      <td>0</td>\n",
              "    </tr>\n",
              "    <tr>\n",
              "      <th>0</th>\n",
              "      <td>EGF</td>\n",
              "      <td>BT20</td>\n",
              "      <td>0.0</td>\n",
              "      <td>1</td>\n",
              "      <td>173</td>\n",
              "      <td>1.473732</td>\n",
              "      <td>3.442083</td>\n",
              "      <td>1.53231</td>\n",
              "      <td>3.154426</td>\n",
              "      <td>4.25020</td>\n",
              "      <td>3.90564</td>\n",
              "      <td>3.913590</td>\n",
              "      <td>4.685157</td>\n",
              "      <td>3.520813</td>\n",
              "      <td>2.940114</td>\n",
              "      <td>2.973216</td>\n",
              "      <td>1.327159</td>\n",
              "      <td>4.246362</td>\n",
              "      <td>2.993972</td>\n",
              "      <td>4.81318</td>\n",
              "      <td>1.71397</td>\n",
              "      <td>5.097469</td>\n",
              "      <td>1.437622</td>\n",
              "      <td>1.760643</td>\n",
              "      <td>2.345361</td>\n",
              "      <td>2.128692</td>\n",
              "      <td>2.959242</td>\n",
              "      <td>4.26799</td>\n",
              "      <td>3.348944</td>\n",
              "      <td>2.470509</td>\n",
              "      <td>2.739179</td>\n",
              "      <td>4.30421</td>\n",
              "      <td>1.933920</td>\n",
              "      <td>3.557209</td>\n",
              "      <td>3.53145</td>\n",
              "      <td>4.46999</td>\n",
              "      <td>2.019960</td>\n",
              "      <td>2.416691</td>\n",
              "      <td>3.938022</td>\n",
              "      <td>3.128716</td>\n",
              "      <td>2.849716</td>\n",
              "      <td>2.469874</td>\n",
              "      <td>0</td>\n",
              "      <td>1</td>\n",
              "    </tr>\n",
              "    <tr>\n",
              "      <th>1</th>\n",
              "      <td>EGF</td>\n",
              "      <td>184A1</td>\n",
              "      <td>0.0</td>\n",
              "      <td>1</td>\n",
              "      <td>2689</td>\n",
              "      <td>1.595264</td>\n",
              "      <td>3.411190</td>\n",
              "      <td>2.72302</td>\n",
              "      <td>4.005737</td>\n",
              "      <td>5.01509</td>\n",
              "      <td>1.66281</td>\n",
              "      <td>4.947062</td>\n",
              "      <td>3.085023</td>\n",
              "      <td>3.101794</td>\n",
              "      <td>3.716224</td>\n",
              "      <td>3.051249</td>\n",
              "      <td>1.335840</td>\n",
              "      <td>2.688881</td>\n",
              "      <td>2.978988</td>\n",
              "      <td>3.10473</td>\n",
              "      <td>3.97202</td>\n",
              "      <td>5.105626</td>\n",
              "      <td>2.814350</td>\n",
              "      <td>2.191086</td>\n",
              "      <td>2.889448</td>\n",
              "      <td>2.521620</td>\n",
              "      <td>3.098738</td>\n",
              "      <td>4.72070</td>\n",
              "      <td>3.355354</td>\n",
              "      <td>2.951474</td>\n",
              "      <td>3.142957</td>\n",
              "      <td>3.60416</td>\n",
              "      <td>3.624425</td>\n",
              "      <td>2.937221</td>\n",
              "      <td>4.46909</td>\n",
              "      <td>4.76504</td>\n",
              "      <td>2.479759</td>\n",
              "      <td>3.402019</td>\n",
              "      <td>3.276655</td>\n",
              "      <td>2.784750</td>\n",
              "      <td>3.121248</td>\n",
              "      <td>2.679670</td>\n",
              "      <td>1</td>\n",
              "      <td>0</td>\n",
              "    </tr>\n",
              "    <tr>\n",
              "      <th>...</th>\n",
              "      <td>...</td>\n",
              "      <td>...</td>\n",
              "      <td>...</td>\n",
              "      <td>...</td>\n",
              "      <td>...</td>\n",
              "      <td>...</td>\n",
              "      <td>...</td>\n",
              "      <td>...</td>\n",
              "      <td>...</td>\n",
              "      <td>...</td>\n",
              "      <td>...</td>\n",
              "      <td>...</td>\n",
              "      <td>...</td>\n",
              "      <td>...</td>\n",
              "      <td>...</td>\n",
              "      <td>...</td>\n",
              "      <td>...</td>\n",
              "      <td>...</td>\n",
              "      <td>...</td>\n",
              "      <td>...</td>\n",
              "      <td>...</td>\n",
              "      <td>...</td>\n",
              "      <td>...</td>\n",
              "      <td>...</td>\n",
              "      <td>...</td>\n",
              "      <td>...</td>\n",
              "      <td>...</td>\n",
              "      <td>...</td>\n",
              "      <td>...</td>\n",
              "      <td>...</td>\n",
              "      <td>...</td>\n",
              "      <td>...</td>\n",
              "      <td>...</td>\n",
              "      <td>...</td>\n",
              "      <td>...</td>\n",
              "      <td>...</td>\n",
              "      <td>...</td>\n",
              "      <td>...</td>\n",
              "      <td>...</td>\n",
              "      <td>...</td>\n",
              "      <td>...</td>\n",
              "      <td>...</td>\n",
              "      <td>...</td>\n",
              "      <td>...</td>\n",
              "    </tr>\n",
              "    <tr>\n",
              "      <th>412576</th>\n",
              "      <td>iPKC</td>\n",
              "      <td>BT20</td>\n",
              "      <td>60.0</td>\n",
              "      <td>10943</td>\n",
              "      <td>203</td>\n",
              "      <td>0.224784</td>\n",
              "      <td>2.621299</td>\n",
              "      <td>1.20489</td>\n",
              "      <td>0.565534</td>\n",
              "      <td>6.15714</td>\n",
              "      <td>1.69387</td>\n",
              "      <td>1.262963</td>\n",
              "      <td>4.072052</td>\n",
              "      <td>1.079260</td>\n",
              "      <td>2.652408</td>\n",
              "      <td>0.543688</td>\n",
              "      <td>1.330433</td>\n",
              "      <td>3.510651</td>\n",
              "      <td>1.404442</td>\n",
              "      <td>1.41261</td>\n",
              "      <td>2.03113</td>\n",
              "      <td>4.099871</td>\n",
              "      <td>1.502687</td>\n",
              "      <td>1.161247</td>\n",
              "      <td>0.754879</td>\n",
              "      <td>3.349719</td>\n",
              "      <td>2.221470</td>\n",
              "      <td>5.11187</td>\n",
              "      <td>2.093402</td>\n",
              "      <td>1.228809</td>\n",
              "      <td>0.798554</td>\n",
              "      <td>3.79872</td>\n",
              "      <td>1.449668</td>\n",
              "      <td>2.996980</td>\n",
              "      <td>2.20794</td>\n",
              "      <td>5.19038</td>\n",
              "      <td>2.568317</td>\n",
              "      <td>2.437066</td>\n",
              "      <td>1.627965</td>\n",
              "      <td>1.072230</td>\n",
              "      <td>1.729814</td>\n",
              "      <td>2.447808</td>\n",
              "      <td>0</td>\n",
              "      <td>1</td>\n",
              "    </tr>\n",
              "    <tr>\n",
              "      <th>412577</th>\n",
              "      <td>iPKC</td>\n",
              "      <td>BT20</td>\n",
              "      <td>60.0</td>\n",
              "      <td>10944</td>\n",
              "      <td>203</td>\n",
              "      <td>0.224784</td>\n",
              "      <td>1.620657</td>\n",
              "      <td>2.17016</td>\n",
              "      <td>0.565534</td>\n",
              "      <td>4.25020</td>\n",
              "      <td>1.65883</td>\n",
              "      <td>2.826974</td>\n",
              "      <td>4.256552</td>\n",
              "      <td>1.737076</td>\n",
              "      <td>3.681191</td>\n",
              "      <td>2.286686</td>\n",
              "      <td>0.886092</td>\n",
              "      <td>4.431916</td>\n",
              "      <td>2.462415</td>\n",
              "      <td>3.61944</td>\n",
              "      <td>1.03591</td>\n",
              "      <td>4.837756</td>\n",
              "      <td>0.791972</td>\n",
              "      <td>0.364099</td>\n",
              "      <td>3.555782</td>\n",
              "      <td>4.056356</td>\n",
              "      <td>1.888923</td>\n",
              "      <td>5.04185</td>\n",
              "      <td>2.787857</td>\n",
              "      <td>3.746544</td>\n",
              "      <td>2.093396</td>\n",
              "      <td>4.25233</td>\n",
              "      <td>0.516309</td>\n",
              "      <td>2.144964</td>\n",
              "      <td>2.56546</td>\n",
              "      <td>5.83472</td>\n",
              "      <td>2.428914</td>\n",
              "      <td>2.028794</td>\n",
              "      <td>2.665232</td>\n",
              "      <td>3.332157</td>\n",
              "      <td>2.142585</td>\n",
              "      <td>3.319022</td>\n",
              "      <td>0</td>\n",
              "      <td>1</td>\n",
              "    </tr>\n",
              "    <tr>\n",
              "      <th>412578</th>\n",
              "      <td>iPKC</td>\n",
              "      <td>BT20</td>\n",
              "      <td>60.0</td>\n",
              "      <td>10945</td>\n",
              "      <td>203</td>\n",
              "      <td>0.224784</td>\n",
              "      <td>1.814268</td>\n",
              "      <td>1.40306</td>\n",
              "      <td>1.653685</td>\n",
              "      <td>5.24270</td>\n",
              "      <td>1.59085</td>\n",
              "      <td>1.049438</td>\n",
              "      <td>3.200674</td>\n",
              "      <td>0.895138</td>\n",
              "      <td>2.980461</td>\n",
              "      <td>1.929770</td>\n",
              "      <td>2.191442</td>\n",
              "      <td>4.277874</td>\n",
              "      <td>2.606349</td>\n",
              "      <td>2.36089</td>\n",
              "      <td>2.75427</td>\n",
              "      <td>4.511062</td>\n",
              "      <td>1.422224</td>\n",
              "      <td>1.931830</td>\n",
              "      <td>2.528625</td>\n",
              "      <td>3.471817</td>\n",
              "      <td>1.717419</td>\n",
              "      <td>4.97150</td>\n",
              "      <td>3.077000</td>\n",
              "      <td>2.081375</td>\n",
              "      <td>2.449693</td>\n",
              "      <td>4.37475</td>\n",
              "      <td>1.602473</td>\n",
              "      <td>2.657207</td>\n",
              "      <td>2.64744</td>\n",
              "      <td>5.86601</td>\n",
              "      <td>2.957850</td>\n",
              "      <td>1.859629</td>\n",
              "      <td>2.000075</td>\n",
              "      <td>3.596318</td>\n",
              "      <td>1.050310</td>\n",
              "      <td>2.818219</td>\n",
              "      <td>0</td>\n",
              "      <td>1</td>\n",
              "    </tr>\n",
              "    <tr>\n",
              "      <th>412579</th>\n",
              "      <td>iPKC</td>\n",
              "      <td>BT20</td>\n",
              "      <td>60.0</td>\n",
              "      <td>10946</td>\n",
              "      <td>203</td>\n",
              "      <td>0.450334</td>\n",
              "      <td>1.828815</td>\n",
              "      <td>1.42798</td>\n",
              "      <td>1.938115</td>\n",
              "      <td>4.92441</td>\n",
              "      <td>2.22142</td>\n",
              "      <td>2.952410</td>\n",
              "      <td>4.310807</td>\n",
              "      <td>1.862176</td>\n",
              "      <td>3.833275</td>\n",
              "      <td>0.841376</td>\n",
              "      <td>0.646114</td>\n",
              "      <td>4.676619</td>\n",
              "      <td>3.093699</td>\n",
              "      <td>3.82837</td>\n",
              "      <td>3.01109</td>\n",
              "      <td>5.881139</td>\n",
              "      <td>1.933004</td>\n",
              "      <td>0.364099</td>\n",
              "      <td>2.867965</td>\n",
              "      <td>4.143543</td>\n",
              "      <td>1.883298</td>\n",
              "      <td>5.44465</td>\n",
              "      <td>3.030463</td>\n",
              "      <td>3.474432</td>\n",
              "      <td>1.538356</td>\n",
              "      <td>4.60995</td>\n",
              "      <td>1.602103</td>\n",
              "      <td>3.075064</td>\n",
              "      <td>2.43223</td>\n",
              "      <td>6.58014</td>\n",
              "      <td>2.227953</td>\n",
              "      <td>1.988299</td>\n",
              "      <td>2.725758</td>\n",
              "      <td>3.896554</td>\n",
              "      <td>1.885875</td>\n",
              "      <td>2.761818</td>\n",
              "      <td>0</td>\n",
              "      <td>1</td>\n",
              "    </tr>\n",
              "    <tr>\n",
              "      <th>412580</th>\n",
              "      <td>iPKC</td>\n",
              "      <td>BT20</td>\n",
              "      <td>60.0</td>\n",
              "      <td>10947</td>\n",
              "      <td>203</td>\n",
              "      <td>1.290460</td>\n",
              "      <td>2.720047</td>\n",
              "      <td>2.22087</td>\n",
              "      <td>1.505436</td>\n",
              "      <td>4.93050</td>\n",
              "      <td>2.27953</td>\n",
              "      <td>2.800080</td>\n",
              "      <td>4.163790</td>\n",
              "      <td>1.421531</td>\n",
              "      <td>3.744048</td>\n",
              "      <td>1.521290</td>\n",
              "      <td>1.359410</td>\n",
              "      <td>4.608551</td>\n",
              "      <td>1.528939</td>\n",
              "      <td>3.29878</td>\n",
              "      <td>2.97440</td>\n",
              "      <td>4.870286</td>\n",
              "      <td>2.484688</td>\n",
              "      <td>2.531582</td>\n",
              "      <td>2.875279</td>\n",
              "      <td>3.525294</td>\n",
              "      <td>0.500146</td>\n",
              "      <td>5.10406</td>\n",
              "      <td>2.495414</td>\n",
              "      <td>2.650878</td>\n",
              "      <td>2.015701</td>\n",
              "      <td>5.00721</td>\n",
              "      <td>0.516309</td>\n",
              "      <td>1.930688</td>\n",
              "      <td>2.20794</td>\n",
              "      <td>6.20831</td>\n",
              "      <td>3.208958</td>\n",
              "      <td>1.528820</td>\n",
              "      <td>2.328155</td>\n",
              "      <td>3.547920</td>\n",
              "      <td>1.146370</td>\n",
              "      <td>2.888254</td>\n",
              "      <td>0</td>\n",
              "      <td>1</td>\n",
              "    </tr>\n",
              "  </tbody>\n",
              "</table>\n",
              "<p>1529715 rows × 44 columns</p>\n",
              "</div>"
            ],
            "text/plain": [
              "       treatment cell_line  time  cellID  ...   p.STAT3   p.STAT5  184A1  BT20\n",
              "0            EGF     184A1   0.0       1  ...  0.704653 -0.577393      1     0\n",
              "0            EGF     184A1   0.0       1  ...  0.704653 -0.577393      0     1\n",
              "0            EGF      BT20   0.0       1  ...  2.849716  2.469874      1     0\n",
              "0            EGF      BT20   0.0       1  ...  2.849716  2.469874      0     1\n",
              "1            EGF     184A1   0.0       1  ...  3.121248  2.679670      1     0\n",
              "...          ...       ...   ...     ...  ...       ...       ...    ...   ...\n",
              "412576      iPKC      BT20  60.0   10943  ...  1.729814  2.447808      0     1\n",
              "412577      iPKC      BT20  60.0   10944  ...  2.142585  3.319022      0     1\n",
              "412578      iPKC      BT20  60.0   10945  ...  1.050310  2.818219      0     1\n",
              "412579      iPKC      BT20  60.0   10946  ...  1.885875  2.761818      0     1\n",
              "412580      iPKC      BT20  60.0   10947  ...  1.146370  2.888254      0     1\n",
              "\n",
              "[1529715 rows x 44 columns]"
            ]
          },
          "metadata": {
            "tags": []
          },
          "execution_count": 121
        }
      ]
    },
    {
      "cell_type": "code",
      "metadata": {
        "id": "OkiFfmwZ_Erb",
        "colab_type": "code",
        "outputId": "553798c4-115d-40d1-fcc5-765e2407ee2d",
        "colab": {
          "base_uri": "https://localhost:8080/",
          "height": 68
        }
      },
      "source": [
        "encoded2.dtypes"
      ],
      "execution_count": 0,
      "outputs": [
        {
          "output_type": "execute_result",
          "data": {
            "text/plain": [
              "184A1    uint8\n",
              "BT20     uint8\n",
              "dtype: object"
            ]
          },
          "metadata": {
            "tags": []
          },
          "execution_count": 122
        }
      ]
    },
    {
      "cell_type": "code",
      "metadata": {
        "id": "BmLNpSHO-emv",
        "colab_type": "code",
        "outputId": "2a87b008-0f9b-452e-bdbe-282414009304",
        "colab": {
          "base_uri": "https://localhost:8080/",
          "height": 34
        }
      },
      "source": [
        "temp.cell_line.unique()"
      ],
      "execution_count": 0,
      "outputs": [
        {
          "output_type": "execute_result",
          "data": {
            "text/plain": [
              "array(['184A1', 'BT20'], dtype=object)"
            ]
          },
          "metadata": {
            "tags": []
          },
          "execution_count": 114
        }
      ]
    },
    {
      "cell_type": "code",
      "metadata": {
        "id": "INeWuVHx9K-I",
        "colab_type": "code",
        "colab": {}
      },
      "source": [
        ""
      ],
      "execution_count": 0,
      "outputs": []
    },
    {
      "cell_type": "code",
      "metadata": {
        "id": "9bG54lVJ7UkU",
        "colab_type": "code",
        "outputId": "99178872-f771-49a2-c6dc-2a6d33a303d1",
        "colab": {
          "base_uri": "https://localhost:8080/",
          "height": 224
        }
      },
      "source": [
        "X.head()"
      ],
      "execution_count": 0,
      "outputs": [
        {
          "output_type": "execute_result",
          "data": {
            "text/html": [
              "<div>\n",
              "<style scoped>\n",
              "    .dataframe tbody tr th:only-of-type {\n",
              "        vertical-align: middle;\n",
              "    }\n",
              "\n",
              "    .dataframe tbody tr th {\n",
              "        vertical-align: top;\n",
              "    }\n",
              "\n",
              "    .dataframe thead th {\n",
              "        text-align: right;\n",
              "    }\n",
              "</style>\n",
              "<table border=\"1\" class=\"dataframe\">\n",
              "  <thead>\n",
              "    <tr style=\"text-align: right;\">\n",
              "      <th></th>\n",
              "      <th>time</th>\n",
              "      <th>b.CATENIN</th>\n",
              "      <th>cleavedCas</th>\n",
              "      <th>CyclinB</th>\n",
              "      <th>GAPDH</th>\n",
              "      <th>IdU</th>\n",
              "      <th>Ki.67</th>\n",
              "      <th>p.4EBP1</th>\n",
              "      <th>p.Akt.Ser473.</th>\n",
              "      <th>p.AKT.Thr308.</th>\n",
              "      <th>p.AMPK</th>\n",
              "      <th>p.BTK</th>\n",
              "      <th>p.CREB</th>\n",
              "      <th>p.ERK</th>\n",
              "      <th>p.FAK</th>\n",
              "      <th>p.GSK3b</th>\n",
              "      <th>p.H3</th>\n",
              "      <th>p.HER2</th>\n",
              "      <th>p.JNK</th>\n",
              "      <th>p.MAP2K3</th>\n",
              "      <th>p.MAPKAPK2</th>\n",
              "      <th>p.MEK</th>\n",
              "      <th>p.MKK3.MKK6</th>\n",
              "      <th>p.MKK4</th>\n",
              "      <th>p.NFkB</th>\n",
              "      <th>p.p38</th>\n",
              "      <th>p.p53</th>\n",
              "      <th>p.p90RSK</th>\n",
              "      <th>p.PDPK1</th>\n",
              "      <th>p.PLCg2</th>\n",
              "      <th>p.RB</th>\n",
              "      <th>p.S6</th>\n",
              "      <th>p.S6K</th>\n",
              "      <th>p.SMAD23</th>\n",
              "      <th>p.SRC</th>\n",
              "      <th>p.STAT1</th>\n",
              "      <th>p.STAT3</th>\n",
              "    </tr>\n",
              "  </thead>\n",
              "  <tbody>\n",
              "    <tr>\n",
              "      <th>0</th>\n",
              "      <td>0.0</td>\n",
              "      <td>0.000000</td>\n",
              "      <td>0.086165</td>\n",
              "      <td>0.177054</td>\n",
              "      <td>0.192988</td>\n",
              "      <td>0.091187</td>\n",
              "      <td>0.000000</td>\n",
              "      <td>0.000000</td>\n",
              "      <td>0.000000</td>\n",
              "      <td>0.139917</td>\n",
              "      <td>0.276021</td>\n",
              "      <td>0.194083</td>\n",
              "      <td>0.000000e+00</td>\n",
              "      <td>0.225248</td>\n",
              "      <td>0.303534</td>\n",
              "      <td>0.000000</td>\n",
              "      <td>0.179983</td>\n",
              "      <td>0.371509</td>\n",
              "      <td>0.190690</td>\n",
              "      <td>0.138618</td>\n",
              "      <td>0.000000</td>\n",
              "      <td>0.153991</td>\n",
              "      <td>0.090401</td>\n",
              "      <td>0.033644</td>\n",
              "      <td>0.276346</td>\n",
              "      <td>0.146509</td>\n",
              "      <td>0.000000</td>\n",
              "      <td>0.262120</td>\n",
              "      <td>0.018636</td>\n",
              "      <td>0.193378</td>\n",
              "      <td>0.535957</td>\n",
              "      <td>0.283681</td>\n",
              "      <td>0.000000</td>\n",
              "      <td>0.254186</td>\n",
              "      <td>0.035064</td>\n",
              "      <td>0.233791</td>\n",
              "      <td>0.008185</td>\n",
              "    </tr>\n",
              "    <tr>\n",
              "      <th>1</th>\n",
              "      <td>0.0</td>\n",
              "      <td>0.247093</td>\n",
              "      <td>0.315549</td>\n",
              "      <td>0.222631</td>\n",
              "      <td>0.650303</td>\n",
              "      <td>0.082858</td>\n",
              "      <td>0.011928</td>\n",
              "      <td>0.534501</td>\n",
              "      <td>0.334143</td>\n",
              "      <td>0.282990</td>\n",
              "      <td>0.494447</td>\n",
              "      <td>0.482627</td>\n",
              "      <td>9.934715e-02</td>\n",
              "      <td>0.336725</td>\n",
              "      <td>0.505064</td>\n",
              "      <td>0.272547</td>\n",
              "      <td>0.325628</td>\n",
              "      <td>0.498271</td>\n",
              "      <td>0.390215</td>\n",
              "      <td>0.241591</td>\n",
              "      <td>0.361818</td>\n",
              "      <td>0.382905</td>\n",
              "      <td>0.346091</td>\n",
              "      <td>0.473866</td>\n",
              "      <td>0.460830</td>\n",
              "      <td>0.347042</td>\n",
              "      <td>0.360702</td>\n",
              "      <td>0.365048</td>\n",
              "      <td>0.489208</td>\n",
              "      <td>0.372768</td>\n",
              "      <td>0.309552</td>\n",
              "      <td>0.299524</td>\n",
              "      <td>0.446373</td>\n",
              "      <td>0.365618</td>\n",
              "      <td>0.428910</td>\n",
              "      <td>0.461356</td>\n",
              "      <td>0.386910</td>\n",
              "    </tr>\n",
              "    <tr>\n",
              "      <th>2</th>\n",
              "      <td>0.0</td>\n",
              "      <td>0.130996</td>\n",
              "      <td>0.160565</td>\n",
              "      <td>0.174623</td>\n",
              "      <td>0.551576</td>\n",
              "      <td>0.119837</td>\n",
              "      <td>0.000000</td>\n",
              "      <td>0.205114</td>\n",
              "      <td>0.196928</td>\n",
              "      <td>0.257694</td>\n",
              "      <td>0.498823</td>\n",
              "      <td>0.468817</td>\n",
              "      <td>1.000474e-07</td>\n",
              "      <td>0.227379</td>\n",
              "      <td>0.270447</td>\n",
              "      <td>0.000000</td>\n",
              "      <td>0.182626</td>\n",
              "      <td>0.404544</td>\n",
              "      <td>0.265458</td>\n",
              "      <td>0.277046</td>\n",
              "      <td>0.214959</td>\n",
              "      <td>0.398163</td>\n",
              "      <td>0.194793</td>\n",
              "      <td>0.341215</td>\n",
              "      <td>0.355895</td>\n",
              "      <td>0.165638</td>\n",
              "      <td>0.140817</td>\n",
              "      <td>0.000000</td>\n",
              "      <td>0.314762</td>\n",
              "      <td>0.240401</td>\n",
              "      <td>0.351938</td>\n",
              "      <td>0.253003</td>\n",
              "      <td>0.412886</td>\n",
              "      <td>0.192961</td>\n",
              "      <td>0.198114</td>\n",
              "      <td>0.402057</td>\n",
              "      <td>0.120641</td>\n",
              "    </tr>\n",
              "    <tr>\n",
              "      <th>3</th>\n",
              "      <td>0.0</td>\n",
              "      <td>0.125813</td>\n",
              "      <td>0.000000</td>\n",
              "      <td>0.019761</td>\n",
              "      <td>0.385106</td>\n",
              "      <td>0.078605</td>\n",
              "      <td>0.000000</td>\n",
              "      <td>0.384213</td>\n",
              "      <td>0.296380</td>\n",
              "      <td>0.032518</td>\n",
              "      <td>0.349477</td>\n",
              "      <td>0.275986</td>\n",
              "      <td>3.299393e-02</td>\n",
              "      <td>0.430958</td>\n",
              "      <td>0.387031</td>\n",
              "      <td>0.307907</td>\n",
              "      <td>0.232261</td>\n",
              "      <td>0.375387</td>\n",
              "      <td>0.350791</td>\n",
              "      <td>0.194166</td>\n",
              "      <td>0.293676</td>\n",
              "      <td>0.451711</td>\n",
              "      <td>0.350188</td>\n",
              "      <td>0.313392</td>\n",
              "      <td>0.397242</td>\n",
              "      <td>0.299680</td>\n",
              "      <td>0.000000</td>\n",
              "      <td>0.396328</td>\n",
              "      <td>0.314104</td>\n",
              "      <td>0.316921</td>\n",
              "      <td>0.239866</td>\n",
              "      <td>0.532708</td>\n",
              "      <td>0.502227</td>\n",
              "      <td>0.268803</td>\n",
              "      <td>0.318338</td>\n",
              "      <td>0.455991</td>\n",
              "      <td>0.050687</td>\n",
              "    </tr>\n",
              "    <tr>\n",
              "      <th>4</th>\n",
              "      <td>0.0</td>\n",
              "      <td>0.315330</td>\n",
              "      <td>0.151789</td>\n",
              "      <td>0.000000</td>\n",
              "      <td>0.188116</td>\n",
              "      <td>0.017979</td>\n",
              "      <td>0.444844</td>\n",
              "      <td>0.062137</td>\n",
              "      <td>0.208210</td>\n",
              "      <td>0.091852</td>\n",
              "      <td>0.521913</td>\n",
              "      <td>0.331514</td>\n",
              "      <td>1.425027e-01</td>\n",
              "      <td>0.382907</td>\n",
              "      <td>0.377538</td>\n",
              "      <td>0.000000</td>\n",
              "      <td>0.237277</td>\n",
              "      <td>0.253561</td>\n",
              "      <td>0.189693</td>\n",
              "      <td>0.139113</td>\n",
              "      <td>0.000000</td>\n",
              "      <td>0.210086</td>\n",
              "      <td>0.156386</td>\n",
              "      <td>0.274211</td>\n",
              "      <td>0.571772</td>\n",
              "      <td>0.249623</td>\n",
              "      <td>0.070745</td>\n",
              "      <td>0.292693</td>\n",
              "      <td>0.268644</td>\n",
              "      <td>0.000000</td>\n",
              "      <td>0.438189</td>\n",
              "      <td>0.356578</td>\n",
              "      <td>0.000000</td>\n",
              "      <td>0.166972</td>\n",
              "      <td>0.151538</td>\n",
              "      <td>0.247885</td>\n",
              "      <td>0.249143</td>\n",
              "    </tr>\n",
              "  </tbody>\n",
              "</table>\n",
              "</div>"
            ],
            "text/plain": [
              "   time  b.CATENIN  cleavedCas  ...     p.SRC   p.STAT1   p.STAT3\n",
              "0   0.0   0.000000    0.086165  ...  0.035064  0.233791  0.008185\n",
              "1   0.0   0.247093    0.315549  ...  0.428910  0.461356  0.386910\n",
              "2   0.0   0.130996    0.160565  ...  0.198114  0.402057  0.120641\n",
              "3   0.0   0.125813    0.000000  ...  0.318338  0.455991  0.050687\n",
              "4   0.0   0.315330    0.151789  ...  0.151538  0.247885  0.249143\n",
              "\n",
              "[5 rows x 37 columns]"
            ]
          },
          "metadata": {
            "tags": []
          },
          "execution_count": 87
        }
      ]
    },
    {
      "cell_type": "code",
      "metadata": {
        "id": "_9anN5tJ7Umr",
        "colab_type": "code",
        "colab": {}
      },
      "source": [
        ""
      ],
      "execution_count": 0,
      "outputs": []
    },
    {
      "cell_type": "code",
      "metadata": {
        "id": "mxmM71Pj7Uoz",
        "colab_type": "code",
        "colab": {}
      },
      "source": [
        ""
      ],
      "execution_count": 0,
      "outputs": []
    },
    {
      "cell_type": "code",
      "metadata": {
        "id": "4Iaes-Ob7UrC",
        "colab_type": "code",
        "colab": {}
      },
      "source": [
        ""
      ],
      "execution_count": 0,
      "outputs": []
    },
    {
      "cell_type": "code",
      "metadata": {
        "id": "Gm5ivBVhKZcA",
        "colab_type": "code",
        "colab": {}
      },
      "source": [
        "from tensorflow.python.keras.layers import Dense, BatchNormalization\n",
        "from tensorflow.python.keras import Sequential\n",
        "import tensorflow.python.keras\n"
      ],
      "execution_count": 0,
      "outputs": []
    },
    {
      "cell_type": "code",
      "metadata": {
        "id": "j1trIMoCJW0u",
        "colab_type": "code",
        "colab": {}
      },
      "source": [
        " def build_model():\n",
        "  model = Sequential([\n",
        "    Dense(24, activation='relu', input_shape=[len(X.columns)]),\n",
        "    Dense(12, activation='relu'),\n",
        "    BatchNormalization(),\n",
        "    Dense(12, activation='relu'),\n",
        "    Dense(1)\n",
        "  ])\n",
        "\n",
        "  optimizer = tf.keras.optimizers.RMSprop(0.001)\n",
        "\n",
        "  model.compile(loss='mse',\n",
        "                optimizer=optimizer,\n",
        "                metrics=['mae', 'mse'])\n",
        "  return model\n",
        "\n",
        "model=build_model()"
      ],
      "execution_count": 0,
      "outputs": []
    },
    {
      "cell_type": "code",
      "metadata": {
        "id": "rNGjiN9fLa2G",
        "colab_type": "code",
        "colab": {}
      },
      "source": [
        "from sklearn.model_selection import train_test_split\n",
        "X_train,X_test,y_train,y_test = train_test_split(X,y,test_size = 0.25, random_state=1234)"
      ],
      "execution_count": 0,
      "outputs": []
    },
    {
      "cell_type": "code",
      "metadata": {
        "id": "rsW9WPhYT16G",
        "colab_type": "code",
        "outputId": "1693f502-e1ab-4323-f632-06c658dcaed8",
        "colab": {
          "base_uri": "https://localhost:8080/",
          "height": 74
        }
      },
      "source": [
        "# model2=build_model()\n",
        "EPOCHS = 1\n",
        "# batch_size= \n",
        "# with tf.device('/device:GPU:0'):\n",
        "history=model.fit(X_train, y_train, epochs=EPOCHS, validation_split=0.2, verbose=2)#, callbacks=[ tfdocs.modeling.EpochDots() ])\n"
      ],
      "execution_count": 19,
      "outputs": [
        {
          "output_type": "stream",
          "text": [
            "Train on 3387751 samples, validate on 846938 samples\n",
            "3387751/3387751 - 399s - loss: 0.1837 - mae: 0.3259 - mse: 0.1837 - val_loss: 0.1816 - val_mae: 0.3230 - val_mse: 0.1816\n"
          ],
          "name": "stdout"
        }
      ]
    },
    {
      "cell_type": "code",
      "metadata": {
        "id": "4s23vECf4jfk",
        "colab_type": "code",
        "outputId": "5ba75ed0-58d9-415b-f8af-cf7c18988073",
        "colab": {
          "base_uri": "https://localhost:8080/",
          "height": 230
        }
      },
      "source": [
        "#test set performance (from same cell lines)\n",
        "test_predictions=model.predict(X_test)\n",
        "rms = sqrt(mean_squared_error(test_predictions, y_test))\n",
        "rms\n",
        "\n"
      ],
      "execution_count": 0,
      "outputs": [
        {
          "output_type": "error",
          "ename": "NameError",
          "evalue": "ignored",
          "traceback": [
            "\u001b[0;31m---------------------------------------------------------------------------\u001b[0m",
            "\u001b[0;31mNameError\u001b[0m                                 Traceback (most recent call last)",
            "\u001b[0;32m<ipython-input-1-aff8fe88698b>\u001b[0m in \u001b[0;36m<module>\u001b[0;34m()\u001b[0m\n\u001b[0;32m----> 1\u001b[0;31m \u001b[0mtest_predictions\u001b[0m\u001b[0;34m=\u001b[0m\u001b[0mmodel\u001b[0m\u001b[0;34m.\u001b[0m\u001b[0mpredict\u001b[0m\u001b[0;34m(\u001b[0m\u001b[0mX_test\u001b[0m\u001b[0;34m)\u001b[0m\u001b[0;34m\u001b[0m\u001b[0;34m\u001b[0m\u001b[0m\n\u001b[0m\u001b[1;32m      2\u001b[0m \u001b[0mrms\u001b[0m \u001b[0;34m=\u001b[0m \u001b[0msqrt\u001b[0m\u001b[0;34m(\u001b[0m\u001b[0mmean_squared_error\u001b[0m\u001b[0;34m(\u001b[0m\u001b[0mtest_predictions\u001b[0m\u001b[0;34m,\u001b[0m \u001b[0my_test\u001b[0m\u001b[0;34m)\u001b[0m\u001b[0;34m)\u001b[0m\u001b[0;34m\u001b[0m\u001b[0;34m\u001b[0m\u001b[0m\n\u001b[1;32m      3\u001b[0m \u001b[0mrms\u001b[0m\u001b[0;34m\u001b[0m\u001b[0;34m\u001b[0m\u001b[0m\n\u001b[1;32m      4\u001b[0m \u001b[0;34m\u001b[0m\u001b[0m\n",
            "\u001b[0;31mNameError\u001b[0m: name 'model' is not defined"
          ]
        }
      ]
    },
    {
      "cell_type": "code",
      "metadata": {
        "id": "_3MvD488RHFI",
        "colab_type": "code",
        "colab": {}
      },
      "source": [
        "#how well does this model perform on other cell lines?\n",
        "Xf,yf = process(file_list[-5:])\n"
      ],
      "execution_count": 0,
      "outputs": []
    },
    {
      "cell_type": "code",
      "metadata": {
        "id": "ltvc3Z4m5UHo",
        "colab_type": "code",
        "colab": {}
      },
      "source": [
        "#test set performance (from different cell lines)\n",
        "test_predictions=model.predict(Xf)\n",
        "rms = sqrt(mean_squared_error(test_predictions, yf))\n",
        "rms\n",
        "\n",
        "\n"
      ],
      "execution_count": 0,
      "outputs": []
    },
    {
      "cell_type": "code",
      "metadata": {
        "id": "UTdydvu2JyZM",
        "colab_type": "code",
        "colab": {}
      },
      "source": [
        ""
      ],
      "execution_count": 0,
      "outputs": []
    }
  ]
}